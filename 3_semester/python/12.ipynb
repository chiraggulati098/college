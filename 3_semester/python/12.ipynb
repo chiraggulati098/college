{
 "cells": [
  {
   "cell_type": "markdown",
   "id": "7bb1c4a4-5a32-43a1-a9c0-4c1e60e4b225",
   "metadata": {},
   "source": [
    "### Universe is Base Class with Sub Class Planet. Universe has private member - mass, protected member - atmosphere. Initialize both variables with custom values. Design a suitable class for the given scenario and discuss how private and protected members can be inherited in the sub class or accessed outside the base class. Specify appropriate reasons in case any of the members cannot be inherited or is inaccessible outside the class."
   ]
  },
  {
   "cell_type": "code",
   "execution_count": 41,
   "id": "9cc423f4-d95c-47d4-9fae-579f64e788c9",
   "metadata": {},
   "outputs": [
    {
     "name": "stdout",
     "output_type": "stream",
     "text": [
      "In Planet Class:\n",
      "Atmosphere = 14\n",
      "14\n"
     ]
    },
    {
     "ename": "AttributeError",
     "evalue": "'Planet' object has no attribute '_Planet__mass'",
     "output_type": "error",
     "traceback": [
      "\u001b[1;31m---------------------------------------------------------------------------\u001b[0m",
      "\u001b[1;31mAttributeError\u001b[0m                            Traceback (most recent call last)",
      "Cell \u001b[1;32mIn[41], line 25\u001b[0m\n\u001b[0;32m     23\u001b[0m b\u001b[38;5;241m.\u001b[39mdisplay_atmosphere()\n\u001b[0;32m     24\u001b[0m \u001b[38;5;28mprint\u001b[39m(b\u001b[38;5;241m.\u001b[39m_atmosphere)\n\u001b[1;32m---> 25\u001b[0m \u001b[43mb\u001b[49m\u001b[38;5;241;43m.\u001b[39;49m\u001b[43mdisplay_mass\u001b[49m\u001b[43m(\u001b[49m\u001b[43m)\u001b[49m\n",
      "Cell \u001b[1;32mIn[41], line 16\u001b[0m, in \u001b[0;36mPlanet.display_mass\u001b[1;34m(self)\u001b[0m\n\u001b[0;32m     15\u001b[0m \u001b[38;5;28;01mdef\u001b[39;00m \u001b[38;5;21mdisplay_mass\u001b[39m(\u001b[38;5;28mself\u001b[39m):\n\u001b[1;32m---> 16\u001b[0m     \u001b[38;5;28mprint\u001b[39m(\u001b[38;5;124mf\u001b[39m\u001b[38;5;124m'\u001b[39m\u001b[38;5;124mIn Planet Class:\u001b[39m\u001b[38;5;130;01m\\n\u001b[39;00m\u001b[38;5;124mMass = \u001b[39m\u001b[38;5;132;01m{\u001b[39;00m\u001b[38;5;28;43mself\u001b[39;49m\u001b[38;5;241;43m.\u001b[39;49m\u001b[43m__mass\u001b[49m\u001b[38;5;132;01m}\u001b[39;00m\u001b[38;5;124m'\u001b[39m)\n",
      "\u001b[1;31mAttributeError\u001b[0m: 'Planet' object has no attribute '_Planet__mass'"
     ]
    }
   ],
   "source": [
    "class Universe():\n",
    "\n",
    "    def __init__(self,mass,atmosphere):\n",
    "        self.__mass = mass\n",
    "        self._atmosphere = atmosphere\n",
    "\n",
    "    def display_mass(self):\n",
    "        print(f'In Universe Class:\\nMass = {self.__mass}')\n",
    "\n",
    "    def display_atmosphere(self):\n",
    "        print(f'In Universe Class:\\nAtmosphere = {self._atmosphere}')\n",
    "\n",
    "class Planet(Universe):\n",
    "\n",
    "    def display_mass(self):\n",
    "        print(f'In Planet Class:\\nMass = {self.__mass}')\n",
    "\n",
    "    def display_atmosphere(self):\n",
    "        print(f'In Planet Class:\\nAtmosphere = {self._atmosphere}')\n",
    "\n",
    "a = Universe(10,14)\n",
    "b = Planet(20,14)\n",
    "b.display_atmosphere()\n",
    "print(b._atmosphere)\n",
    "b.display_mass()"
   ]
  },
  {
   "cell_type": "code",
   "execution_count": 38,
   "id": "171c89ff-0601-43c7-81b9-2c121bdaacab",
   "metadata": {},
   "outputs": [],
   "source": [
    "a = Universe(10,14)\n",
    "b = Planet(20,14) #initializing instances of Universe and Planet Class"
   ]
  },
  {
   "cell_type": "code",
   "execution_count": 37,
   "id": "d7e5289f-a6ed-4aab-8720-b9f397fa21bb",
   "metadata": {},
   "outputs": [
    {
     "name": "stdout",
     "output_type": "stream",
     "text": [
      "In Planet Class:\n",
      "Atmosphere = 14\n"
     ]
    }
   ],
   "source": [
    "# 1. Inherit Atmosphere and access it inside derived class\n",
    "b.display_atmosphere()\n",
    "# we can here access the protected variable using Planet Class"
   ]
  },
  {
   "cell_type": "code",
   "execution_count": 30,
   "id": "de3a14d1-7f5f-432e-86b9-7679ae7315e4",
   "metadata": {},
   "outputs": [
    {
     "name": "stdout",
     "output_type": "stream",
     "text": [
      "14\n",
      "14\n"
     ]
    }
   ],
   "source": [
    "# 2. Access value of Atmosphere outside class\n",
    "print(a._atmosphere)\n",
    "print(b._atmosphere)"
   ]
  },
  {
   "cell_type": "code",
   "execution_count": 29,
   "id": "9e14f6f0-9bf5-451d-a6d8-8de881cee81b",
   "metadata": {},
   "outputs": [
    {
     "ename": "AttributeError",
     "evalue": "'Planet' object has no attribute '_Planet__mass'",
     "output_type": "error",
     "traceback": [
      "\u001b[1;31m---------------------------------------------------------------------------\u001b[0m",
      "\u001b[1;31mAttributeError\u001b[0m                            Traceback (most recent call last)",
      "Cell \u001b[1;32mIn[29], line 2\u001b[0m\n\u001b[0;32m      1\u001b[0m \u001b[38;5;66;03m# 3. Inheriting Private Member in Derived Class\u001b[39;00m\n\u001b[1;32m----> 2\u001b[0m \u001b[43mb\u001b[49m\u001b[38;5;241;43m.\u001b[39;49m\u001b[43mdisplay_mass\u001b[49m\u001b[43m(\u001b[49m\u001b[43m)\u001b[49m\n\u001b[0;32m      3\u001b[0m \u001b[38;5;66;03m# Could not inherit private member in derived class ofc\u001b[39;00m\n",
      "Cell \u001b[1;32mIn[23], line 16\u001b[0m, in \u001b[0;36mPlanet.display_mass\u001b[1;34m(self)\u001b[0m\n\u001b[0;32m     15\u001b[0m \u001b[38;5;28;01mdef\u001b[39;00m \u001b[38;5;21mdisplay_mass\u001b[39m(\u001b[38;5;28mself\u001b[39m):\n\u001b[1;32m---> 16\u001b[0m     \u001b[38;5;28mprint\u001b[39m(\u001b[38;5;124mf\u001b[39m\u001b[38;5;124m'\u001b[39m\u001b[38;5;124mIn Planet Class:\u001b[39m\u001b[38;5;130;01m\\n\u001b[39;00m\u001b[38;5;124mMass = \u001b[39m\u001b[38;5;132;01m{\u001b[39;00m\u001b[38;5;28;43mself\u001b[39;49m\u001b[38;5;241;43m.\u001b[39;49m\u001b[43m__mass\u001b[49m\u001b[38;5;132;01m}\u001b[39;00m\u001b[38;5;124m'\u001b[39m)\n",
      "\u001b[1;31mAttributeError\u001b[0m: 'Planet' object has no attribute '_Planet__mass'"
     ]
    }
   ],
   "source": [
    "# 3. Inheriting Private Member in Derived Class\n",
    "b.display_mass()\n",
    "# Could not inherit private member in derived class ofc"
   ]
  },
  {
   "cell_type": "code",
   "execution_count": 12,
   "id": "4a6a40f2-018f-4b79-93f9-8b3cea50e318",
   "metadata": {},
   "outputs": [],
   "source": [
    "# 4. Can't Access Value of Private member in derived class as not inherited"
   ]
  },
  {
   "cell_type": "code",
   "execution_count": 16,
   "id": "6e472931-f380-41a4-8f7c-9899093f7f74",
   "metadata": {},
   "outputs": [
    {
     "ename": "AttributeError",
     "evalue": "'Planet' object has no attribute '_Planet__mass'",
     "output_type": "error",
     "traceback": [
      "\u001b[1;31m---------------------------------------------------------------------------\u001b[0m",
      "\u001b[1;31mAttributeError\u001b[0m                            Traceback (most recent call last)",
      "Cell \u001b[1;32mIn[16], line 2\u001b[0m\n\u001b[0;32m      1\u001b[0m \u001b[38;5;66;03m# 5. Access value of private variable in derived class\u001b[39;00m\n\u001b[1;32m----> 2\u001b[0m \u001b[43mb\u001b[49m\u001b[38;5;241;43m.\u001b[39;49m\u001b[43mdisplay_mass\u001b[49m\u001b[43m(\u001b[49m\u001b[43m)\u001b[49m\n",
      "Cell \u001b[1;32mIn[7], line 19\u001b[0m, in \u001b[0;36mPlanet.display_mass\u001b[1;34m(self)\u001b[0m\n\u001b[0;32m     18\u001b[0m \u001b[38;5;28;01mdef\u001b[39;00m \u001b[38;5;21mdisplay_mass\u001b[39m(\u001b[38;5;28mself\u001b[39m):\n\u001b[1;32m---> 19\u001b[0m     \u001b[38;5;28mprint\u001b[39m(\u001b[38;5;124mf\u001b[39m\u001b[38;5;124m'\u001b[39m\u001b[38;5;124mIn Planet Class:\u001b[39m\u001b[38;5;130;01m\\n\u001b[39;00m\u001b[38;5;124mMass = \u001b[39m\u001b[38;5;132;01m{\u001b[39;00m\u001b[38;5;28;43mself\u001b[39;49m\u001b[38;5;241;43m.\u001b[39;49m\u001b[43m__mass\u001b[49m\u001b[38;5;132;01m}\u001b[39;00m\u001b[38;5;124m'\u001b[39m)\n",
      "\u001b[1;31mAttributeError\u001b[0m: 'Planet' object has no attribute '_Planet__mass'"
     ]
    }
   ],
   "source": [
    "# 5. Access value of private variable in derived class\n",
    "b.display_mass()"
   ]
  },
  {
   "cell_type": "code",
   "execution_count": 15,
   "id": "2278378c-5248-4477-9b6e-49825213064a",
   "metadata": {},
   "outputs": [
    {
     "ename": "AttributeError",
     "evalue": "'Universe' object has no attribute '__mass'",
     "output_type": "error",
     "traceback": [
      "\u001b[1;31m---------------------------------------------------------------------------\u001b[0m",
      "\u001b[1;31mAttributeError\u001b[0m                            Traceback (most recent call last)",
      "Cell \u001b[1;32mIn[15], line 2\u001b[0m\n\u001b[0;32m      1\u001b[0m \u001b[38;5;66;03m# 6. Accessing Private outside\u001b[39;00m\n\u001b[1;32m----> 2\u001b[0m \u001b[38;5;28mprint\u001b[39m(\u001b[43ma\u001b[49m\u001b[38;5;241;43m.\u001b[39;49m\u001b[43m__mass\u001b[49m)\n",
      "\u001b[1;31mAttributeError\u001b[0m: 'Universe' object has no attribute '__mass'"
     ]
    }
   ],
   "source": [
    "# 6. Accessing Private outside\n",
    "print(a.__mass)"
   ]
  },
  {
   "cell_type": "code",
   "execution_count": 14,
   "id": "7588d72a-4005-4618-b97f-b8ba4321eb47",
   "metadata": {},
   "outputs": [
    {
     "ename": "AttributeError",
     "evalue": "'Planet' object has no attribute '__mass'",
     "output_type": "error",
     "traceback": [
      "\u001b[1;31m---------------------------------------------------------------------------\u001b[0m",
      "\u001b[1;31mAttributeError\u001b[0m                            Traceback (most recent call last)",
      "Cell \u001b[1;32mIn[14], line 1\u001b[0m\n\u001b[1;32m----> 1\u001b[0m \u001b[38;5;28mprint\u001b[39m(\u001b[43mb\u001b[49m\u001b[38;5;241;43m.\u001b[39;49m\u001b[43m__mass\u001b[49m)\n",
      "\u001b[1;31mAttributeError\u001b[0m: 'Planet' object has no attribute '__mass'"
     ]
    }
   ],
   "source": [
    "print(b.__mass)"
   ]
  },
  {
   "cell_type": "code",
   "execution_count": null,
   "id": "e0d6c56b-13c6-4489-b081-ad52036a0042",
   "metadata": {},
   "outputs": [],
   "source": []
  },
  {
   "cell_type": "code",
   "execution_count": null,
   "id": "b7da02b0-16e3-4052-a754-f3a02b8bd327",
   "metadata": {},
   "outputs": [],
   "source": []
  },
  {
   "cell_type": "code",
   "execution_count": 49,
   "id": "fcdec78e-fbaa-4ffc-93a6-e85d607f26a7",
   "metadata": {},
   "outputs": [],
   "source": [
    "class Universe():\n",
    "\n",
    "    def __init__(self,mass,atmosphere):\n",
    "        self.__mass = mass\n",
    "        self._atmosphere = atmosphere\n",
    "\n",
    "    def display_mass(self):\n",
    "        print(f'In Universe Class:\\nMass = {self.__mass}')\n",
    "\n",
    "    def display_atmosphere(self):\n",
    "        print(f'In Universe Class:\\nAtmosphere = {self._atmosphere}')\n",
    "\n",
    "class Planet(Universe):\n",
    "\n",
    "    def __init__(self,mass,atmosphere):\n",
    "        Universe.__init__(self,mass,atmosphere)\n",
    "\n",
    "    def display_mass(self):\n",
    "        print(f'In Planet Class:\\nMass = {self.__mass}')\n",
    "\n",
    "    def display_atmosphere(self):\n",
    "        print(f'In Planet Class:\\nAtmosphere = {self._atmosphere}')"
   ]
  },
  {
   "cell_type": "code",
   "execution_count": 50,
   "id": "165e70ad-5f5e-4e1c-a2de-2797abb81354",
   "metadata": {},
   "outputs": [
    {
     "name": "stdout",
     "output_type": "stream",
     "text": [
      "In Planet Class:\n",
      "Atmosphere = 14\n",
      "14\n"
     ]
    },
    {
     "ename": "AttributeError",
     "evalue": "'Planet' object has no attribute '_Planet__mass'",
     "output_type": "error",
     "traceback": [
      "\u001b[1;31m---------------------------------------------------------------------------\u001b[0m",
      "\u001b[1;31mAttributeError\u001b[0m                            Traceback (most recent call last)",
      "Cell \u001b[1;32mIn[50], line 4\u001b[0m\n\u001b[0;32m      2\u001b[0m b\u001b[38;5;241m.\u001b[39mdisplay_atmosphere()\n\u001b[0;32m      3\u001b[0m \u001b[38;5;28mprint\u001b[39m(b\u001b[38;5;241m.\u001b[39m_atmosphere)\n\u001b[1;32m----> 4\u001b[0m \u001b[43mb\u001b[49m\u001b[38;5;241;43m.\u001b[39;49m\u001b[43mdisplay_mass\u001b[49m\u001b[43m(\u001b[49m\u001b[43m)\u001b[49m\n",
      "Cell \u001b[1;32mIn[49], line 19\u001b[0m, in \u001b[0;36mPlanet.display_mass\u001b[1;34m(self)\u001b[0m\n\u001b[0;32m     18\u001b[0m \u001b[38;5;28;01mdef\u001b[39;00m \u001b[38;5;21mdisplay_mass\u001b[39m(\u001b[38;5;28mself\u001b[39m):\n\u001b[1;32m---> 19\u001b[0m     \u001b[38;5;28mprint\u001b[39m(\u001b[38;5;124mf\u001b[39m\u001b[38;5;124m'\u001b[39m\u001b[38;5;124mIn Planet Class:\u001b[39m\u001b[38;5;130;01m\\n\u001b[39;00m\u001b[38;5;124mMass = \u001b[39m\u001b[38;5;132;01m{\u001b[39;00m\u001b[38;5;28;43mself\u001b[39;49m\u001b[38;5;241;43m.\u001b[39;49m\u001b[43m__mass\u001b[49m\u001b[38;5;132;01m}\u001b[39;00m\u001b[38;5;124m'\u001b[39m)\n",
      "\u001b[1;31mAttributeError\u001b[0m: 'Planet' object has no attribute '_Planet__mass'"
     ]
    }
   ],
   "source": [
    "b = Planet(20,14)\n",
    "b.display_atmosphere()\n",
    "print(b._atmosphere)\n",
    "b.display_mass()"
   ]
  },
  {
   "cell_type": "code",
   "execution_count": null,
   "id": "29bb5253-bcfb-4fa7-967d-7cf5d214a35d",
   "metadata": {},
   "outputs": [],
   "source": []
  }
 ],
 "metadata": {
  "kernelspec": {
   "display_name": "Python 3 (ipykernel)",
   "language": "python",
   "name": "python3"
  },
  "language_info": {
   "codemirror_mode": {
    "name": "ipython",
    "version": 3
   },
   "file_extension": ".py",
   "mimetype": "text/x-python",
   "name": "python",
   "nbconvert_exporter": "python",
   "pygments_lexer": "ipython3",
   "version": "3.12.0"
  }
 },
 "nbformat": 4,
 "nbformat_minor": 5
}
