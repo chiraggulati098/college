{
 "cells": [
  {
   "cell_type": "markdown",
   "id": "cf001f06-89d1-4322-8ecd-0bd63ddd3406",
   "metadata": {},
   "source": [
    "### WAP to apply all the string functions"
   ]
  },
  {
   "cell_type": "code",
   "execution_count": 1,
   "id": "ac643ebb-d76c-415e-bf45-e66a1403ab01",
   "metadata": {},
   "outputs": [
    {
     "name": "stdout",
     "output_type": "stream",
     "text": [
      "HELLO WORLD!\n"
     ]
    }
   ],
   "source": [
    "#upper case\n",
    "a = 'Hello World!'\n",
    "print(a.upper())"
   ]
  },
  {
   "cell_type": "code",
   "execution_count": 2,
   "id": "bee89d03-d2e0-44c1-a522-3c4f885563cf",
   "metadata": {},
   "outputs": [
    {
     "name": "stdout",
     "output_type": "stream",
     "text": [
      "hello world!\n"
     ]
    }
   ],
   "source": [
    "#lower case\n",
    "a = 'Hello World!'\n",
    "print(a.lower())"
   ]
  },
  {
   "cell_type": "code",
   "execution_count": 3,
   "id": "2546274a-1c94-4c3d-a81a-dda2f1d40614",
   "metadata": {},
   "outputs": [
    {
     "name": "stdout",
     "output_type": "stream",
     "text": [
      "Hello World!\n"
     ]
    }
   ],
   "source": [
    "#Remove Whitespaces\n",
    "a = 'Hello World!'\n",
    "print(a.strip())"
   ]
  },
  {
   "cell_type": "code",
   "execution_count": 4,
   "id": "c4dc70bc-4e98-42b5-804f-ca9a48514c9b",
   "metadata": {},
   "outputs": [
    {
     "name": "stdout",
     "output_type": "stream",
     "text": [
      "Hey World!\n"
     ]
    }
   ],
   "source": [
    "#Replace String\n",
    "a = 'Hello World!'\n",
    "print(a.replace('Hello','Hey'))"
   ]
  },
  {
   "cell_type": "code",
   "execution_count": 5,
   "id": "6fa6d87f-d63b-41f7-93cc-50fbd0f48350",
   "metadata": {},
   "outputs": [
    {
     "name": "stdout",
     "output_type": "stream",
     "text": [
      "['Hello', 'World!']\n"
     ]
    }
   ],
   "source": [
    "#Split String\n",
    "a = 'Hello World!'\n",
    "print(a.split())"
   ]
  },
  {
   "cell_type": "code",
   "execution_count": 6,
   "id": "b5038a89-e603-4dcc-96a5-b4b9159e5818",
   "metadata": {},
   "outputs": [
    {
     "name": "stdout",
     "output_type": "stream",
     "text": [
      "Hello to python. have fun learning!\n"
     ]
    }
   ],
   "source": [
    "#Capitalize String\n",
    "a = 'hello to python. have fun learning!'\n",
    "print(a.capitalize())"
   ]
  },
  {
   "cell_type": "code",
   "execution_count": 7,
   "id": "97baa5a6-aef7-497c-ae83-026827792e37",
   "metadata": {},
   "outputs": [
    {
     "name": "stdout",
     "output_type": "stream",
     "text": [
      "hello world!\n"
     ]
    }
   ],
   "source": [
    "#Casefold String\n",
    "a = 'Hello World!'\n",
    "print(a.casefold())"
   ]
  },
  {
   "cell_type": "code",
   "execution_count": 8,
   "id": "d88d0a72-6370-41c0-9f02-3b38968c5af4",
   "metadata": {},
   "outputs": [
    {
     "name": "stdout",
     "output_type": "stream",
     "text": [
      "         Hello World!         \n"
     ]
    }
   ],
   "source": [
    "#Center String\n",
    "a = 'Hello World!'\n",
    "print(a.center(30,' '))"
   ]
  },
  {
   "cell_type": "code",
   "execution_count": 9,
   "id": "e8f07196-e6e4-4be9-b91a-6c203a55b404",
   "metadata": {},
   "outputs": [
    {
     "name": "stdout",
     "output_type": "stream",
     "text": [
      "hELLO wORLD!\n"
     ]
    }
   ],
   "source": [
    "#Swapcase String\n",
    "a = 'Hello World!'\n",
    "print(a.swapcase())"
   ]
  },
  {
   "cell_type": "code",
   "execution_count": 10,
   "id": "ca2675c7-5726-428b-9d53-3320628fdc8a",
   "metadata": {},
   "outputs": [
    {
     "name": "stdout",
     "output_type": "stream",
     "text": [
      "Hello World!\n"
     ]
    }
   ],
   "source": [
    "#Strip String\n",
    "a = '            Hello World!'\n",
    "print(a.strip())"
   ]
  },
  {
   "cell_type": "code",
   "execution_count": 11,
   "id": "e2bdf909-0b39-415b-89cd-9167ec3ff75c",
   "metadata": {},
   "outputs": [
    {
     "name": "stdout",
     "output_type": "stream",
     "text": [
      "True\n"
     ]
    }
   ],
   "source": [
    "#Startswith Function String\n",
    "a = 'Hello World!'\n",
    "print(a.startswith('Hello'))"
   ]
  },
  {
   "cell_type": "code",
   "execution_count": 12,
   "id": "e7858b92-9d4f-474f-ab02-8538342fb70d",
   "metadata": {},
   "outputs": [
    {
     "name": "stdout",
     "output_type": "stream",
     "text": [
      "0000000050\n"
     ]
    }
   ],
   "source": [
    "#Zfill method\n",
    "txt = \"50\"\n",
    "x = txt.zfill(10)\n",
    "print(x)"
   ]
  },
  {
   "cell_type": "code",
   "execution_count": 13,
   "id": "5cbf8db0-4bab-4a52-a59a-e8ce2aa342cb",
   "metadata": {},
   "outputs": [
    {
     "name": "stdout",
     "output_type": "stream",
     "text": [
      "2\n"
     ]
    }
   ],
   "source": [
    "#Count Function\n",
    "a = 'I like apples, apples are my favourite'\n",
    "print(a.count('apple'))"
   ]
  },
  {
   "cell_type": "code",
   "execution_count": 14,
   "id": "06fcdcf9-94d4-46c4-9f26-5ba950ddd127",
   "metadata": {},
   "outputs": [
    {
     "name": "stdout",
     "output_type": "stream",
     "text": [
      "True\n"
     ]
    }
   ],
   "source": [
    "#Ends with\n",
    "a = 'Hello World'\n",
    "print(a.endswith('World'))"
   ]
  },
  {
   "cell_type": "code",
   "execution_count": 15,
   "id": "74287288-bb43-45eb-ba6a-5c2ac326be62",
   "metadata": {},
   "outputs": [
    {
     "name": "stdout",
     "output_type": "stream",
     "text": [
      "H e l l o\n"
     ]
    }
   ],
   "source": [
    "#expand tabs\n",
    "a = 'H\\te\\tl\\tl\\to'\n",
    "print(a.expandtabs(2))"
   ]
  },
  {
   "cell_type": "code",
   "execution_count": 16,
   "id": "d8b01dd5-4abb-4ec3-a677-b94281f1dfd3",
   "metadata": {},
   "outputs": [
    {
     "name": "stdout",
     "output_type": "stream",
     "text": [
      "6\n"
     ]
    }
   ],
   "source": [
    "#find\n",
    "a = 'Hello World'\n",
    "print(a.find('World'))"
   ]
  },
  {
   "cell_type": "code",
   "execution_count": 17,
   "id": "3d99adf8-30a7-4d10-beb0-cf4fc26d1086",
   "metadata": {},
   "outputs": [
    {
     "name": "stdout",
     "output_type": "stream",
     "text": [
      "True\n"
     ]
    }
   ],
   "source": [
    "#isalnum\n",
    "a = 'company12'\n",
    "print(a.isalnum())"
   ]
  },
  {
   "cell_type": "code",
   "execution_count": 18,
   "id": "52a55b85-eaa0-4ac0-bbac-cc8c24c13411",
   "metadata": {},
   "outputs": [
    {
     "name": "stdout",
     "output_type": "stream",
     "text": [
      "True\n"
     ]
    }
   ],
   "source": [
    "#isalpha\n",
    "a = 'company'\n",
    "print(a.isalpha())"
   ]
  },
  {
   "cell_type": "code",
   "execution_count": 19,
   "id": "06a2c9b8-475d-4ae2-9dc6-5d650544bf34",
   "metadata": {},
   "outputs": [
    {
     "name": "stdout",
     "output_type": "stream",
     "text": [
      "True\n"
     ]
    }
   ],
   "source": [
    "#isdecimal()-\n",
    "a = \"1234\"\n",
    "print(a.isdecimal())"
   ]
  },
  {
   "cell_type": "code",
   "execution_count": 20,
   "id": "6e4004fc-13a5-425e-b7c7-c89869c58d6a",
   "metadata": {},
   "outputs": [
    {
     "name": "stdout",
     "output_type": "stream",
     "text": [
      "True\n"
     ]
    }
   ],
   "source": [
    "#isLower()\n",
    "a = \"hello world!\"\n",
    "print(a.islower())"
   ]
  },
  {
   "cell_type": "code",
   "execution_count": 21,
   "id": "ab330017-9751-4207-bae8-b6248c4de6e6",
   "metadata": {},
   "outputs": [
    {
     "name": "stdout",
     "output_type": "stream",
     "text": [
      "True\n"
     ]
    }
   ],
   "source": [
    "#isnumeric()\n",
    "a = \"565543.34\"\n",
    "print(txt.isnumeric())"
   ]
  },
  {
   "cell_type": "code",
   "execution_count": 22,
   "id": "7ddfd5b0-e61b-42b5-840d-ebc731d9b5d4",
   "metadata": {},
   "outputs": [
    {
     "name": "stdout",
     "output_type": "stream",
     "text": [
      "False\n"
     ]
    }
   ],
   "source": [
    "# isprintable()\n",
    "a = \"Hello!\\nAre you #1?\"\n",
    "print(a.isprintable()) "
   ]
  },
  {
   "cell_type": "code",
   "execution_count": 23,
   "id": "ba39d799-2593-4c7f-8b0e-41b228ac25c1",
   "metadata": {},
   "outputs": [
    {
     "name": "stdout",
     "output_type": "stream",
     "text": [
      "True\n"
     ]
    }
   ],
   "source": [
    "#isspace() \n",
    "a = \"  \"\n",
    "print(a.isspace())"
   ]
  },
  {
   "cell_type": "code",
   "execution_count": 24,
   "id": "3aad64ce-76e2-465d-a2ba-07d9585391ee",
   "metadata": {},
   "outputs": [
    {
     "name": "stdout",
     "output_type": "stream",
     "text": [
      "True\n"
     ]
    }
   ],
   "source": [
    "#istitle\n",
    "a = 'Hello World. How Is It Going?'\n",
    "print(a.istitle())"
   ]
  },
  {
   "cell_type": "code",
   "execution_count": 25,
   "id": "86b1b4cf-f7ea-47f4-a633-53b6977725d0",
   "metadata": {},
   "outputs": [
    {
     "name": "stdout",
     "output_type": "stream",
     "text": [
      "True\n"
     ]
    }
   ],
   "source": [
    "#isupper\n",
    "a = 'HELLO WORLD'\n",
    "print(a.isupper())"
   ]
  },
  {
   "cell_type": "code",
   "execution_count": 26,
   "id": "9d62b165-3ac4-41cd-bbb9-42bfde53b636",
   "metadata": {},
   "outputs": [
    {
     "name": "stdout",
     "output_type": "stream",
     "text": [
      "('How is your ', 'college', ' going?')\n"
     ]
    }
   ],
   "source": [
    "#partition\n",
    "a = 'How is your college going?'\n",
    "print(a.partition('college'))"
   ]
  },
  {
   "cell_type": "code",
   "execution_count": 27,
   "id": "a09416cd-d22a-48f9-8a6a-16905652d6a0",
   "metadata": {},
   "outputs": [
    {
     "name": "stdout",
     "output_type": "stream",
     "text": [
      "Hello#World#Python#Coding\n"
     ]
    }
   ],
   "source": [
    "#join\n",
    "a = ('Hello','World','Python','Coding')\n",
    "print('#'.join(a))"
   ]
  },
  {
   "cell_type": "code",
   "execution_count": null,
   "id": "f004b33d-3016-4f9b-bb24-53d15e7541e5",
   "metadata": {},
   "outputs": [],
   "source": []
  }
 ],
 "metadata": {
  "kernelspec": {
   "display_name": "Python 3 (ipykernel)",
   "language": "python",
   "name": "python3"
  },
  "language_info": {
   "codemirror_mode": {
    "name": "ipython",
    "version": 3
   },
   "file_extension": ".py",
   "mimetype": "text/x-python",
   "name": "python",
   "nbconvert_exporter": "python",
   "pygments_lexer": "ipython3",
   "version": "3.10.12"
  }
 },
 "nbformat": 4,
 "nbformat_minor": 5
}
