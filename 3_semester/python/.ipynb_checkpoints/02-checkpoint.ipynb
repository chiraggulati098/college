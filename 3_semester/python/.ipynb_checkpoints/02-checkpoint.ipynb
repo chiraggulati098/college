{
 "cells": [
  {
   "cell_type": "markdown",
   "id": "c492b198-979b-4d83-ad4e-ed08cad5cc9e",
   "metadata": {},
   "source": [
    "WAP to format the output using %f and %s operator and use the input function to take input from user"
   ]
  },
  {
   "cell_type": "code",
   "execution_count": 1,
   "id": "9e327097-7a40-476b-93d6-508b1577c7c0",
   "metadata": {},
   "outputs": [
    {
     "name": "stdin",
     "output_type": "stream",
     "text": [
      "enter float:  2.23\n",
      "enter string:  chirag\n"
     ]
    },
    {
     "name": "stdout",
     "output_type": "stream",
     "text": [
      "float = 2.230000\n",
      "string = chirag\n"
     ]
    }
   ],
   "source": [
    "a = float(input('enter float: '))\n",
    "b = input('enter string: ')\n",
    "\n",
    "print('float = %f'%a)\n",
    "print('string = %s'%b)"
   ]
  },
  {
   "cell_type": "markdown",
   "id": "fc2f831d-a856-42e6-8315-4e79bfe112d1",
   "metadata": {},
   "source": [
    "WAP to format the output using format function for basic arthmetic operations"
   ]
  },
  {
   "cell_type": "code",
   "execution_count": 5,
   "id": "80168fda-baf8-4580-b0f1-7d74cff52f1c",
   "metadata": {},
   "outputs": [
    {
     "name": "stdin",
     "output_type": "stream",
     "text": [
      "enter a:  4\n",
      "enter b:  2\n"
     ]
    },
    {
     "name": "stdout",
     "output_type": "stream",
     "text": [
      "sum = 6\n",
      "difference = 2\n",
      "product = 8\n",
      "divident = 2.0\n"
     ]
    }
   ],
   "source": [
    "a = eval(input(\"enter a: \"))\n",
    "b = eval(input(\"enter b: \"))\n",
    "\n",
    "print('sum = {}'.format(a+b))\n",
    "print('difference = {}'.format(a-b))\n",
    "print('product = {}'.format(a*b))\n",
    "print('divident = {}'.format(a/b))"
   ]
  },
  {
   "cell_type": "code",
   "execution_count": null,
   "id": "5f762ba8-0d0d-450d-9001-70f4c5ec0c3e",
   "metadata": {},
   "outputs": [],
   "source": []
  }
 ],
 "metadata": {
  "kernelspec": {
   "display_name": "Python 3 (ipykernel)",
   "language": "python",
   "name": "python3"
  },
  "language_info": {
   "codemirror_mode": {
    "name": "ipython",
    "version": 3
   },
   "file_extension": ".py",
   "mimetype": "text/x-python",
   "name": "python",
   "nbconvert_exporter": "python",
   "pygments_lexer": "ipython3",
   "version": "3.10.12"
  }
 },
 "nbformat": 4,
 "nbformat_minor": 5
}
