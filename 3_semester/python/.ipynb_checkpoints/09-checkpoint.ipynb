{
 "cells": [
  {
   "cell_type": "markdown",
   "id": "52119864-5803-4911-b2ea-a55353ed0deb",
   "metadata": {},
   "source": [
    "### Local and Global Variable"
   ]
  },
  {
   "cell_type": "code",
   "execution_count": 2,
   "id": "4ed365e1-0ac3-4515-b65c-52a3ff185c1d",
   "metadata": {},
   "outputs": [
    {
     "name": "stdout",
     "output_type": "stream",
     "text": [
      "In Function = Local\n",
      "Outside Function = Global\n"
     ]
    }
   ],
   "source": [
    "a = 'Global'\n",
    "\n",
    "def localfunc():\n",
    "    a = 'Local'\n",
    "    print(f'In Function = {a}')\n",
    "\n",
    "localfunc()\n",
    "print(f'Outside Function = {a}')"
   ]
  },
  {
   "cell_type": "markdown",
   "id": "1385143d-42d4-4ccf-86bb-338481ec9996",
   "metadata": {},
   "source": [
    "### Call by Value and Call by Reference"
   ]
  },
  {
   "cell_type": "code",
   "execution_count": 13,
   "id": "332a4597-f3bf-49e8-81fc-451e6cd1c500",
   "metadata": {},
   "outputs": [
    {
     "name": "stdout",
     "output_type": "stream",
     "text": [
      "before func: (10, 12)\n",
      "value in func: (10, 12)\n",
      "value in func: (10, 12, 2, 3)\n",
      "after func: (10, 12)\n"
     ]
    }
   ],
   "source": [
    "# pass by value\n",
    "a = (10,12)\n",
    "def func1(n):\n",
    "    print(f'value in func: {n}')\n",
    "    a2 = (2,3)\n",
    "    n = n+a2\n",
    "    print(f'value in func: {n}')\n",
    "\n",
    "print(f'before func: {a}')\n",
    "func1(a)\n",
    "print(f'after func: {a}')"
   ]
  },
  {
   "cell_type": "code",
   "execution_count": 9,
   "id": "454bb474-9e49-4497-b2ca-84c051b56502",
   "metadata": {},
   "outputs": [
    {
     "name": "stdout",
     "output_type": "stream",
     "text": [
      "before func: [10]\n",
      "value in func: [10]\n",
      "value in func: [10, 12, 13, 14]\n",
      "after func: [10, 12, 13, 14]\n"
     ]
    }
   ],
   "source": [
    "# pass by reference\n",
    "b = [10]\n",
    "def func1(n):\n",
    "    print(f'value in func: {n}')\n",
    "    n.append(12)\n",
    "    n.extend([13,14])\n",
    "    print(f'value in func: {n}')\n",
    "\n",
    "print(f'before func: {b}')\n",
    "func1(b)\n",
    "print(f'after func: {b}')"
   ]
  },
  {
   "cell_type": "markdown",
   "id": "b7f9a6e6-ef29-4b4d-bac7-b69a406ae5aa",
   "metadata": {},
   "source": [
    "### WAP to find 2 highest number in the list using functions"
   ]
  },
  {
   "cell_type": "code",
   "execution_count": 35,
   "id": "bdd12578-f95e-4abe-9f6d-8d564de8c86a",
   "metadata": {},
   "outputs": [
    {
     "name": "stdout",
     "output_type": "stream",
     "text": [
      "99\n"
     ]
    }
   ],
   "source": [
    "a = [19,22,24,13,34,110,52,32,31,110,99,110]\n",
    "\n",
    "def sort(l):\n",
    "    for i in range(len(a)):\n",
    "        for j in range(i,len(a)):\n",
    "            max = l[i]\n",
    "            if l[j]>max:\n",
    "                max = l[j]\n",
    "                l[j] = l[i]\n",
    "                l[i] = max\n",
    "\n",
    "def find2(a):\n",
    "    for i in range(1,len(a)):\n",
    "        if a[i]!=a[0]:\n",
    "            print(a[i])\n",
    "            break\n",
    "    else:\n",
    "        print(\"All Numbers are Same\")\n",
    "\n",
    "sort(a)\n",
    "find2(a)"
   ]
  }
 ],
 "metadata": {
  "kernelspec": {
   "display_name": "Python 3 (ipykernel)",
   "language": "python",
   "name": "python3"
  },
  "language_info": {
   "codemirror_mode": {
    "name": "ipython",
    "version": 3
   },
   "file_extension": ".py",
   "mimetype": "text/x-python",
   "name": "python",
   "nbconvert_exporter": "python",
   "pygments_lexer": "ipython3",
   "version": "3.12.0"
  }
 },
 "nbformat": 4,
 "nbformat_minor": 5
}
