{
 "cells": [
  {
   "cell_type": "code",
   "execution_count": null,
   "id": "c68a227a-ea6d-4a6d-af88-8831ad264bb4",
   "metadata": {},
   "outputs": [],
   "source": []
  },
  {
   "cell_type": "code",
   "execution_count": 1,
   "id": "44d4d64a-9fef-4d74-b380-bc3e68364fbf",
   "metadata": {},
   "outputs": [
    {
     "name": "stdin",
     "output_type": "stream",
     "text": [
      "enter: 123.23\n"
     ]
    },
    {
     "name": "stdout",
     "output_type": "stream",
     "text": [
      "123.23\n"
     ]
    }
   ],
   "source": [
    "x = eval(input('enter:'))\n",
    "print(x)"
   ]
  },
  {
   "cell_type": "code",
   "execution_count": 4,
   "id": "59950576-dc3d-4269-bab6-2f4fed61b5cc",
   "metadata": {},
   "outputs": [
    {
     "name": "stdout",
     "output_type": "stream",
     "text": [
      "<class 'int'>\n",
      "<class 'float'>\n",
      "<class 'str'>\n"
     ]
    }
   ],
   "source": [
    "a = 4\n",
    "b = 3.3\n",
    "c = 'string'\n",
    "print(type(a))\n",
    "print(type(b))\n",
    "print(type(c))"
   ]
  },
  {
   "cell_type": "code",
   "execution_count": 5,
   "id": "ed8e1965-3afc-4f7c-a403-c2abb9f7d9c6",
   "metadata": {},
   "outputs": [
    {
     "name": "stdin",
     "output_type": "stream",
     "text": [
      "enter char:  4\n"
     ]
    },
    {
     "name": "stdout",
     "output_type": "stream",
     "text": [
      "ASCII = 52\n"
     ]
    },
    {
     "name": "stdin",
     "output_type": "stream",
     "text": [
      "enter ASCII:  52\n"
     ]
    },
    {
     "name": "stdout",
     "output_type": "stream",
     "text": [
      "4\n"
     ]
    }
   ],
   "source": [
    "a = input('enter char: ')\n",
    "print(f'ASCII = {ord(a)}')\n",
    "b = int(input('enter ASCII: '))\n",
    "print(chr(b))"
   ]
  },
  {
   "cell_type": "code",
   "execution_count": 6,
   "id": "43d0263a-81bb-4361-9825-50357c605453",
   "metadata": {},
   "outputs": [
    {
     "name": "stdout",
     "output_type": "stream",
     "text": [
      "HELLO WORLD!\n",
      "hello world!\n",
      "Hello World!\n",
      "Hey World!\n",
      "['Hello', 'World!']\n",
      "Hello to python. have fun learning!\n",
      "hello world!\n",
      "         Hello World!         \n",
      "hELLO wORLD!\n",
      "Hello World!\n",
      "True\n",
      "0000000050\n",
      "2\n",
      "True\n",
      "H e l l o\n",
      "6\n",
      "True\n",
      "True\n",
      "True\n",
      "True\n",
      "True\n",
      "False\n",
      "True\n",
      "True\n",
      "True\n",
      "('How is your ', 'college', ' going?')\n",
      "Hello#World#Python#Coding\n"
     ]
    }
   ],
   "source": [
    "#upper case\n",
    "a = 'Hello World!'\n",
    "print(a.upper())\n",
    "\n",
    "#lower case\n",
    "a = 'Hello World!'\n",
    "print(a.lower())\n",
    "\n",
    "#Remove Whitespaces\n",
    "a = 'Hello World!'\n",
    "print(a.strip())\n",
    "\n",
    "#Replace String\n",
    "a = 'Hello World!'\n",
    "print(a.replace('Hello','Hey'))\n",
    "\n",
    "#Split String\n",
    "a = 'Hello World!'\n",
    "print(a.split())\n",
    "\n",
    "#Capitalize String\n",
    "a = 'hello to python. have fun learning!'\n",
    "print(a.capitalize())\n",
    "\n",
    "#Casefold String\n",
    "a = 'Hello World!'\n",
    "print(a.casefold())\n",
    "\n",
    "#Center String\n",
    "a = 'Hello World!'\n",
    "print(a.center(30,' '))\n",
    "\n",
    "#Swapcase String\n",
    "a = 'Hello World!'\n",
    "print(a.swapcase())\n",
    "\n",
    "#Strip String\n",
    "a = '            Hello World!'\n",
    "print(a.strip())\n",
    "\n",
    "#Startswith Function String\n",
    "a = 'Hello World!'\n",
    "print(a.startswith('Hello'))\n",
    "\n",
    "#Zfill method\n",
    "txt = \"50\"\n",
    "x = txt.zfill(10)\n",
    "print(x)\n",
    "\n",
    "#Count Function\n",
    "a = 'I like apples, apples are my favourite'\n",
    "print(a.count('apple'))\n",
    "\n",
    "#Ends with\n",
    "a = 'Hello World'\n",
    "print(a.endswith('World'))\n",
    "\n",
    "#expand tabs\n",
    "a = 'H\\te\\tl\\tl\\to'\n",
    "print(a.expandtabs(2))\n",
    "\n",
    "#find\n",
    "a = 'Hello World'\n",
    "print(a.find('World'))\n",
    "\n",
    "#isalnum\n",
    "a = 'company12'\n",
    "print(a.isalnum())\n",
    "\n",
    "#isalpha\n",
    "a = 'company'\n",
    "print(a.isalpha())\n",
    "\n",
    "#isdecimal()\n",
    "a = \"1234\"\n",
    "print(a.isdecimal())\n",
    "\n",
    "#isLower()\n",
    "a = \"hello world!\"\n",
    "print(a.islower())\n",
    "\n",
    "#isnumeric()\n",
    "a = \"565543.34\"\n",
    "print(txt.isnumeric())\n",
    "\n",
    "# isprintable()\n",
    "a = \"Hello!\\nAre you #1?\"\n",
    "print(a.isprintable()) \n",
    "\n",
    "#isspace() \n",
    "a = \"  \"\n",
    "print(a.isspace())\n",
    "\n",
    "#istitle\n",
    "a = 'Hello World. How Is It Going?'\n",
    "print(a.istitle())\n",
    "\n",
    "#isupper\n",
    "a = 'HELLO WORLD'\n",
    "print(a.isupper())\n",
    "\n",
    "#partition\n",
    "a = 'How is your college going?'\n",
    "print(a.partition('college'))\n",
    "\n",
    "#join\n",
    "a = ('Hello','World','Python','Coding')\n",
    "print('#'.join(a))"
   ]
  },
  {
   "cell_type": "code",
   "execution_count": 7,
   "id": "c61a5e94-cfe6-4b0c-8c6d-cdd7d36ad984",
   "metadata": {},
   "outputs": [
    {
     "name": "stdin",
     "output_type": "stream",
     "text": [
      "Enter the month name:  July\n"
     ]
    },
    {
     "name": "stdout",
     "output_type": "stream",
     "text": [
      "July has 31 days.\n"
     ]
    }
   ],
   "source": [
    "month_days = {\"January\": 31, \"February\": 28, \"March\": 31, \"April\": 30, \"May\": 31, \"June\": 30, \"July\": 31, \"August\": 31, \"September\": 30, \"October\": 31, \"November\": 30, \"December\": 31}\n",
    "\n",
    "month_name = input(\"Enter the month name: \")\n",
    "month_name = month_name.capitalize()\n",
    "\n",
    "if month_name in month_days:\n",
    "    num_days = month_days[month_name]\n",
    "    print(f\"{month_name} has {num_days} days.\")\n",
    "else:\n",
    "    print(\"Invalid month name. Please enter a valid month name.\")"
   ]
  },
  {
   "cell_type": "code",
   "execution_count": 10,
   "id": "a0196f0c-c74d-4473-8349-ff49746ef709",
   "metadata": {},
   "outputs": [
    {
     "name": "stdin",
     "output_type": "stream",
     "text": [
      "enter password:  ChiragGulati0305\n"
     ]
    },
    {
     "name": "stdout",
     "output_type": "stream",
     "text": [
      "True\n"
     ]
    }
   ],
   "source": [
    "def pass_check(x):\n",
    "    if len(x)<8:\n",
    "        return False\n",
    "    if not any(a.isdigit() for a in x):\n",
    "        return False\n",
    "    if not any(a.islower() for a in x):\n",
    "        return False\n",
    "    if not any(a.isupper() for a in x):\n",
    "        return False\n",
    "    return True\n",
    "\n",
    "password = input(\"enter password: \")\n",
    "print(pass_check(password))"
   ]
  },
  {
   "cell_type": "code",
   "execution_count": 11,
   "id": "154b6142-c8d4-494c-be0b-f67e3fd80897",
   "metadata": {},
   "outputs": [
    {
     "name": "stdout",
     "output_type": "stream",
     "text": [
      "True\n",
      "False\n",
      "1\n",
      "4\n",
      "7\n",
      "5\n",
      "2\n",
      "2\n",
      "85\n",
      "96\n",
      "73\n",
      "0\n"
     ]
    }
   ],
   "source": [
    "print(5 == 4 + 1)\n",
    "print(not 5 == 5)\n",
    "print(1 or 2 and 3)\n",
    "print(4 or 5 + 10 or 8)\n",
    "print(6 | 2 + 1)\n",
    "print(6 ^ 2 + 1)\n",
    "print(6 & 2 + 1)\n",
    "print(8 >> 4 - 2)\n",
    "print(100 - 5 * 3)\n",
    "print(100 + ~3)\n",
    "print(100 - 3 ** 3)\n",
    "print((6 + 3) - (6 + 3))"
   ]
  },
  {
   "cell_type": "code",
   "execution_count": 13,
   "id": "287f8790-c29d-474c-afb3-99f678a0f393",
   "metadata": {},
   "outputs": [
    {
     "name": "stdout",
     "output_type": "stream",
     "text": [
      "Positive Numbers: [2, 4, 6]\n",
      "Negative Numbers: [-1, -3, -5, -7]\n"
     ]
    }
   ],
   "source": [
    "num = [-1, 2, -3, 4, -5, 6, -7]\n",
    "pos_num = []\n",
    "neg_num = []\n",
    "\n",
    "for x in num:\n",
    "    if x >= 0:\n",
    "        pos_num.append(x)\n",
    "    else:\n",
    "        neg_num.append(x)\n",
    "\n",
    "print(\"Positive Numbers:\", pos_num)\n",
    "print(\"Negative Numbers:\", neg_num)\n"
   ]
  },
  {
   "cell_type": "code",
   "execution_count": 14,
   "id": "5797ce82-a63b-4b38-ada0-2a6bff17c764",
   "metadata": {},
   "outputs": [
    {
     "name": "stdin",
     "output_type": "stream",
     "text": [
      "Enter a string:  chirraggulati098\n"
     ]
    },
    {
     "name": "stdout",
     "output_type": "stream",
     "text": [
      "Letters: 13\n",
      "Digits: 3\n"
     ]
    }
   ],
   "source": [
    "input_string = input(\"Enter a string: \")\n",
    "\n",
    "letters_count = 0\n",
    "digits_count = 0\n",
    "\n",
    "for char in input_string:\n",
    "    if char.isalpha():\n",
    "        letters_count += 1\n",
    "    elif char.isdigit():\n",
    "        digits_count += 1\n",
    "\n",
    "print(\"Letters:\", letters_count)\n",
    "print(\"Digits:\", digits_count)"
   ]
  },
  {
   "cell_type": "code",
   "execution_count": 17,
   "id": "8741f5c9-3680-4812-b094-4a0dfd02d6de",
   "metadata": {},
   "outputs": [
    {
     "name": "stdin",
     "output_type": "stream",
     "text": [
      "Enter a number:  135\n"
     ]
    },
    {
     "name": "stdout",
     "output_type": "stream",
     "text": [
      "hexagon\n"
     ]
    }
   ],
   "source": [
    "num = eval(input(\"Enter a number: \"))\n",
    "if num % 15 == 0:\n",
    "    print(\"hexagon\")\n",
    "elif num % 5 == 0:\n",
    "    print(\"pentagon\")\n",
    "elif num % 3 == 0:\n",
    "    print(\"triangle\")\n",
    "else:\n",
    "    print(\"The number is not divisible by 3, 5, or 15.\")"
   ]
  },
  {
   "cell_type": "code",
   "execution_count": null,
   "id": "f7e89f11-602c-4878-8172-6a048d8e51b8",
   "metadata": {},
   "outputs": [],
   "source": []
  }
 ],
 "metadata": {
  "kernelspec": {
   "display_name": "Python 3 (ipykernel)",
   "language": "python",
   "name": "python3"
  },
  "language_info": {
   "codemirror_mode": {
    "name": "ipython",
    "version": 3
   },
   "file_extension": ".py",
   "mimetype": "text/x-python",
   "name": "python",
   "nbconvert_exporter": "python",
   "pygments_lexer": "ipython3",
   "version": "3.11.4"
  }
 },
 "nbformat": 4,
 "nbformat_minor": 5
}
