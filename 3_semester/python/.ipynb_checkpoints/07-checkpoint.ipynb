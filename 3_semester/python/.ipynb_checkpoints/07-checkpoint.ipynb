{
 "cells": [
  {
   "cell_type": "markdown",
   "id": "dbbe84ce-bc50-4c77-a7e8-670a771e1057",
   "metadata": {},
   "source": [
    "### WAP to join 2 lists using concatination operator, append method and extend method"
   ]
  },
  {
   "cell_type": "code",
   "execution_count": 3,
   "id": "38d35650-cc9a-4d99-bba8-abe35d49b6ce",
   "metadata": {},
   "outputs": [
    {
     "name": "stdout",
     "output_type": "stream",
     "text": [
      "['a', 2, 3, 4, 'hello', 6]\n",
      "['a', 2, 3, 4, 'hello', 6]\n",
      "['a', 2, 3, 4, 'hello', 6]\n"
     ]
    }
   ],
   "source": [
    "list1 = ['a',2,3]\n",
    "list2 = [4,'hello',6]\n",
    "list3 = list1 + list2 \n",
    "print(list3)\n",
    "\n",
    "for x in list2:\n",
    "    list1.append(x)\n",
    "print(list1)\n",
    "\n",
    "list1 = ['a',2,3]\n",
    "list1.extend(list2)\n",
    "print(list1)"
   ]
  },
  {
   "cell_type": "code",
   "execution_count": null,
   "id": "a12c5611-945d-4d36-a613-4f18659d3572",
   "metadata": {},
   "outputs": [],
   "source": []
  }
 ],
 "metadata": {
  "kernelspec": {
   "display_name": "Python 3 (ipykernel)",
   "language": "python",
   "name": "python3"
  },
  "language_info": {
   "codemirror_mode": {
    "name": "ipython",
    "version": 3
   },
   "file_extension": ".py",
   "mimetype": "text/x-python",
   "name": "python",
   "nbconvert_exporter": "python",
   "pygments_lexer": "ipython3",
   "version": "3.12.0"
  }
 },
 "nbformat": 4,
 "nbformat_minor": 5
}
