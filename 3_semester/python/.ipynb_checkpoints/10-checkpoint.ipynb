{
 "cells": [
  {
   "cell_type": "code",
   "execution_count": 1,
   "id": "b5443783-1613-4fbe-b517-c1bed8ebb5f0",
   "metadata": {},
   "outputs": [],
   "source": [
    "str = 'Hello Python'"
   ]
  },
  {
   "cell_type": "code",
   "execution_count": 3,
   "id": "c5b37892-ce43-4d71-8187-ab86ee01202a",
   "metadata": {},
   "outputs": [
    {
     "name": "stdout",
     "output_type": "stream",
     "text": [
      "e\n",
      "l\n",
      "l\n",
      " \n",
      "P\n",
      "y\n",
      "t\n",
      "n\n"
     ]
    }
   ],
   "source": [
    "#for loop without range\n",
    "for i in str:\n",
    "    if (i=='o') or (i=='h') or (i=='H'):\n",
    "        continue\n",
    "    print(i)"
   ]
  },
  {
   "cell_type": "code",
   "execution_count": 4,
   "id": "765ae638-9347-4211-92a4-d96f0dcab811",
   "metadata": {},
   "outputs": [
    {
     "name": "stdout",
     "output_type": "stream",
     "text": [
      "e\n",
      "l\n",
      "l\n",
      " \n",
      "P\n",
      "y\n",
      "t\n",
      "n\n"
     ]
    }
   ],
   "source": [
    "#for with range\n",
    "for i in range(len(str)):\n",
    "    if (str[i]=='o') or (str[i]=='h') or (str[i]=='H'):\n",
    "        continue\n",
    "    print(str[i])"
   ]
  },
  {
   "cell_type": "code",
   "execution_count": 34,
   "id": "3fa90369-f66e-4cd1-b946-8b56e5bd222c",
   "metadata": {},
   "outputs": [
    {
     "name": "stdout",
     "output_type": "stream",
     "text": [
      "e\n",
      "l\n",
      "l\n",
      " \n",
      "P\n",
      "y\n",
      "t\n",
      "n\n"
     ]
    }
   ],
   "source": [
    "#while with range\n",
    "i=0\n",
    "while i in range(len(str)):\n",
    "    if (str[i]=='o') or (str[i]=='h') or (str[i]=='H'):\n",
    "        i+=1\n",
    "        continue\n",
    "    print(str[i])\n",
    "    i+=1"
   ]
  },
  {
   "cell_type": "code",
   "execution_count": 13,
   "id": "8293a185-1186-4004-8250-3266ee12a92e",
   "metadata": {},
   "outputs": [
    {
     "name": "stdout",
     "output_type": "stream",
     "text": [
      "e\n",
      "l\n",
      "l\n",
      " \n",
      "P\n",
      "y\n",
      "t\n",
      "n\n"
     ]
    }
   ],
   "source": [
    "#while without range\n",
    "i=0\n",
    "while i<len(str):\n",
    "    if (str[i]=='o') or (str[i]=='h') or (str[i]=='H'):\n",
    "        i+=1\n",
    "        continue\n",
    "    print(str[i])\n",
    "    i+=1"
   ]
  },
  {
   "cell_type": "code",
   "execution_count": null,
   "id": "9d5faf9e-fc84-494d-8a08-e2e93e55c4ea",
   "metadata": {},
   "outputs": [],
   "source": []
  },
  {
   "cell_type": "code",
   "execution_count": 33,
   "id": "63b1f18b-be96-4a07-bd3c-490481e521ee",
   "metadata": {},
   "outputs": [
    {
     "name": "stdout",
     "output_type": "stream",
     "text": [
      "upper() - HELLO PYTHON\n",
      "lower() - hello python\n",
      "split() - ['Hello', 'Python']\n",
      "isalpha() - False\n",
      "isdigit() - False\n",
      "isspace() - False\n",
      "strip() - Hello Python\n",
      "count(\"Hello\") - 1\n"
     ]
    }
   ],
   "source": [
    "print(f'upper() - {str.upper()}') #returns all uppercase of the string\n",
    "print(f'lower() - {str.lower()}') #returns all lowercase of the string\n",
    "print(f'split() - {str.split()}') #returns a list of elements seperating by spaces (can be changed in the arguments)\n",
    "print(f'isalpha() - {str.isalpha()}') #returns true if all elements in the string are alphabets\n",
    "print(f'isdigit() - {str.isdigit()}') #returns true if all the elements in the string are digits\n",
    "print(f'isspace() - {str.isspace()}') #returns true if all the elements in the string are spaces\n",
    "print(f'strip() - {str.strip()}') #removes preceeding and succeeding spaces in the string\n",
    "print(f'count(\"Hello\") - {str.count(\"Hello\")}') #gives count of certain sub string in a string"
   ]
  },
  {
   "cell_type": "code",
   "execution_count": null,
   "id": "e0401709-47af-45b0-a2bc-7041b8c30480",
   "metadata": {},
   "outputs": [],
   "source": []
  }
 ],
 "metadata": {
  "kernelspec": {
   "display_name": "Python 3 (ipykernel)",
   "language": "python",
   "name": "python3"
  },
  "language_info": {
   "codemirror_mode": {
    "name": "ipython",
    "version": 3
   },
   "file_extension": ".py",
   "mimetype": "text/x-python",
   "name": "python",
   "nbconvert_exporter": "python",
   "pygments_lexer": "ipython3",
   "version": "3.12.0"
  }
 },
 "nbformat": 4,
 "nbformat_minor": 5
}
