{
 "cells": [
  {
   "cell_type": "markdown",
   "id": "19913133-9373-40d4-9f5d-3488a7fabd9b",
   "metadata": {},
   "source": [
    "### WAP to perform the slicing of strings"
   ]
  },
  {
   "cell_type": "code",
   "execution_count": 5,
   "id": "2a81cfea-f344-4cd8-94bb-0a9178d14b4c",
   "metadata": {},
   "outputs": [
    {
     "name": "stdout",
     "output_type": "stream",
     "text": [
      "Hello\n",
      "ngu\n",
      "amm\n",
      "o\n",
      "Program\n",
      "lo Python\n"
     ]
    }
   ],
   "source": [
    "str1 = 'Hello Python'\n",
    "str2 = 'Programming Language'\n",
    "\n",
    "print(str1[0:5])\n",
    "print(str2[-6:-3])\n",
    "print(str2[5:8])\n",
    "print(str1[4])\n",
    "print(str2[:7])\n",
    "print(str1[3:])"
   ]
  },
  {
   "cell_type": "markdown",
   "id": "f3204ae2-f68f-4419-8625-43cd87a185a4",
   "metadata": {},
   "source": [
    "### WAP which accepts first name and last name and print in the reverese order with a space between them"
   ]
  },
  {
   "cell_type": "code",
   "execution_count": 7,
   "id": "acc812ec-3be0-4fbe-b8aa-ddbe7d751f8b",
   "metadata": {},
   "outputs": [
    {
     "name": "stdin",
     "output_type": "stream",
     "text": [
      "enter your first name:  Chirag\n",
      "enter your last name:  Gulati\n"
     ]
    },
    {
     "name": "stdout",
     "output_type": "stream",
     "text": [
      "Gulati Chirag\n"
     ]
    }
   ],
   "source": [
    "first_name = input('enter your first name: ')\n",
    "last_name = input('enter your last name: ')\n",
    "\n",
    "print(last_name,first_name)"
   ]
  },
  {
   "cell_type": "markdown",
   "id": "a8fb95ab-9080-4f71-8d55-b0fdfbab4b80",
   "metadata": {},
   "source": [
    "### WAP to display current Date and Time"
   ]
  },
  {
   "cell_type": "code",
   "execution_count": 20,
   "id": "4df7cdcd-4acf-41d6-a471-f55d4500f04f",
   "metadata": {},
   "outputs": [
    {
     "name": "stdout",
     "output_type": "stream",
     "text": [
      "2023-09-16 15:06:32.086403\n",
      "Formatted datetime =  16/09/2023, 15:06:32\n"
     ]
    }
   ],
   "source": [
    "from datetime import datetime\n",
    "\n",
    "current_datetime = datetime.now()\n",
    "print(current_datetime)\n",
    "\n",
    "current_date_time = current_datetime.strftime(\"%d/%m/%Y, %H:%M:%S\")\n",
    "print(\"Formatted datetime = \",current_date_time)"
   ]
  },
  {
   "cell_type": "markdown",
   "id": "65c52208-ecf9-4e39-aba4-2925b8c22aa6",
   "metadata": {},
   "source": [
    "### WAP to get multiple inputs from a user in one line:\n",
    "#### a. using format function -\n",
    "##### i. using indexes\n",
    "##### ii. without indexes\n",
    "##### iii. using alias\n",
    "#### b. using matrix input"
   ]
  },
  {
   "cell_type": "code",
   "execution_count": 42,
   "id": "130a952c-67a3-4c05-ac93-4c0ac063c25f",
   "metadata": {},
   "outputs": [
    {
     "name": "stdin",
     "output_type": "stream",
     "text": [
      "enter 4 number: 1 2 3 4\n"
     ]
    },
    {
     "name": "stdout",
     "output_type": "stream",
     "text": [
      "\n",
      "using format function: with indexes - 1,2,3,4\n",
      "using format function: without indexes - 1,2,3,4\n",
      "using format function: using alias - 1,2,3,4\n"
     ]
    }
   ],
   "source": [
    "a,b,c,d = map(int,input('enter 4 number:').split())\n",
    "\n",
    "print('\\nusing format function: with indexes - {2},{3},{0},{1}'.format(c,d,a,b))\n",
    "print('using format function: without indexes - {},{},{},{}'.format(a,b,c,d))\n",
    "print('using format function: using alias - {n1},{n2},{n3},{n4}'.format(n1=a,n2=b,n3=c,n4=d))"
   ]
  },
  {
   "cell_type": "code",
   "execution_count": 47,
   "id": "15a361d5-077f-4536-8a58-e6290029ac17",
   "metadata": {},
   "outputs": [
    {
     "name": "stdin",
     "output_type": "stream",
     "text": [
      "enter number of rows and columns:  2 2\n"
     ]
    },
    {
     "name": "stdout",
     "output_type": "stream",
     "text": [
      "enter the matrix\n"
     ]
    },
    {
     "name": "stdin",
     "output_type": "stream",
     "text": [
      " 1\n",
      " 2\n",
      " 3\n",
      " 4\n"
     ]
    },
    {
     "name": "stdout",
     "output_type": "stream",
     "text": [
      "\n",
      "12\n",
      "34\n"
     ]
    }
   ],
   "source": [
    "rows,cols = map(int,input('enter number of rows and columns: ').split())\n",
    "matrix = []\n",
    "print('enter the matrix')\n",
    "for i in range(rows):\n",
    "    a = []\n",
    "    for j in range(cols):\n",
    "        a.append(int(input()))\n",
    "    matrix.append(a)\n",
    "print()\n",
    "\n",
    "for i in range(rows):\n",
    "    for j in range(cols):\n",
    "        print(matrix[i][j],end='')\n",
    "    print()"
   ]
  },
  {
   "cell_type": "markdown",
   "id": "0e9382c5-972e-4bca-963e-d8c4a567eca4",
   "metadata": {},
   "source": [
    "### WAP to print all the letters except p,a and m"
   ]
  },
  {
   "cell_type": "code",
   "execution_count": 4,
   "id": "4525ab25-d811-4aa3-9c5f-9cf2e58095c7",
   "metadata": {},
   "outputs": [
    {
     "name": "stdout",
     "output_type": "stream",
     "text": [
      "ython rogring Lnguge"
     ]
    }
   ],
   "source": [
    "a = 'Python Programming Language'\n",
    "\n",
    "for i in range (len(a)):\n",
    "    if a[i].lower() != 'p':\n",
    "        if a[i].lower() != 'a':\n",
    "            if a[i].lower() != 'm':\n",
    "                print(a[i],end='')"
   ]
  },
  {
   "cell_type": "code",
   "execution_count": null,
   "id": "7ded9218-2a8e-4d70-b38d-69b2624ef4da",
   "metadata": {},
   "outputs": [],
   "source": []
  }
 ],
 "metadata": {
  "kernelspec": {
   "display_name": "Python 3 (ipykernel)",
   "language": "python",
   "name": "python3"
  },
  "language_info": {
   "codemirror_mode": {
    "name": "ipython",
    "version": 3
   },
   "file_extension": ".py",
   "mimetype": "text/x-python",
   "name": "python",
   "nbconvert_exporter": "python",
   "pygments_lexer": "ipython3",
   "version": "3.10.12"
  }
 },
 "nbformat": 4,
 "nbformat_minor": 5
}
