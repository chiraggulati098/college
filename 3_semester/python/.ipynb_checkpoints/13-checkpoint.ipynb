{
 "cells": [
  {
   "cell_type": "code",
   "execution_count": 2,
   "id": "988f6636-80ad-46c7-8c4e-8420c175d3f6",
   "metadata": {},
   "outputs": [
    {
     "name": "stdout",
     "output_type": "stream",
     "text": [
      "[9, 2, 5, 2, 1, 5, 4, 2]\n",
      "[1, 2, 4, 5, 9]\n"
     ]
    }
   ],
   "source": [
    "my_list = [9,2,5,2,1,5,4,2]\n",
    "print(my_list)\n",
    "my_list = list(set(my_list))\n",
    "print(my_list)"
   ]
  },
  {
   "cell_type": "code",
   "execution_count": 4,
   "id": "d0a4f8ac-97c3-4fe0-8b10-4cb641572f01",
   "metadata": {},
   "outputs": [
    {
     "name": "stdout",
     "output_type": "stream",
     "text": [
      "1 1 1\n",
      "1 1 2\n",
      "1 1 3\n",
      "1 2 1\n",
      "1 2 2\n",
      "1 2 3\n",
      "1 3 1\n",
      "1 3 2\n",
      "1 3 3\n",
      "2 1 1\n",
      "2 1 2\n",
      "2 1 3\n",
      "2 2 1\n",
      "2 2 2\n",
      "2 2 3\n",
      "2 3 1\n",
      "2 3 2\n",
      "2 3 3\n",
      "3 1 1\n",
      "3 1 2\n",
      "3 1 3\n",
      "3 2 1\n",
      "3 2 2\n",
      "3 2 3\n",
      "3 3 1\n",
      "3 3 2\n",
      "3 3 3\n"
     ]
    }
   ],
   "source": [
    "my_list = [1,2,3]\n",
    "\n",
    "for i in range(0,3):\n",
    "    for j in range(0,3):\n",
    "        for k in range(0,3):\n",
    "            print(my_list[i],my_list[j],my_list[k])"
   ]
  },
  {
   "cell_type": "code",
   "execution_count": 5,
   "id": "7b0a7804-55a8-4890-b7e2-30682ca141b9",
   "metadata": {},
   "outputs": [
    {
     "name": "stdout",
     "output_type": "stream",
     "text": [
      "[23, 12, 34, 23, 45, 21]\n",
      "[12, 21, 23, 23, 34, 45]\n"
     ]
    }
   ],
   "source": [
    "my_list = [23,12,34,23,45,21]\n",
    "print(my_list)\n",
    "my_list.sort()\n",
    "print(my_list)"
   ]
  },
  {
   "cell_type": "code",
   "execution_count": 7,
   "id": "05488856-27be-404e-be3f-2f90cac6d596",
   "metadata": {},
   "outputs": [
    {
     "name": "stdin",
     "output_type": "stream",
     "text": [
      "Enter the number of rows:  4\n"
     ]
    },
    {
     "name": "stdout",
     "output_type": "stream",
     "text": [
      "*  \n",
      "*  *  \n",
      "*  *  *  \n",
      "*  *  *  *  \n"
     ]
    }
   ],
   "source": [
    "n = int(input(\"Enter the number of rows: \"))\n",
    "for i in range(n):\n",
    "    for j in range(i + 1): \n",
    "        print(\"* \", end=\" \")\n",
    "    print()     "
   ]
  },
  {
   "cell_type": "code",
   "execution_count": 8,
   "id": "15c6da5f-8b04-4456-bba6-434a3161220f",
   "metadata": {},
   "outputs": [
    {
     "name": "stdin",
     "output_type": "stream",
     "text": [
      "Enter the number of rows:  4\n"
     ]
    },
    {
     "name": "stdout",
     "output_type": "stream",
     "text": [
      "   *  \n",
      "  *  *  \n",
      " *  *  *  \n",
      "*  *  *  *  \n"
     ]
    }
   ],
   "source": [
    "n = m = int(input(\"Enter the number of rows: \"))\n",
    "for i in range(n):\n",
    "    for j in range(m-1): \n",
    "        print(\" \",end=\"\")\n",
    "    for j in range(i + 1): \n",
    "        print(\"* \", end=' ')\n",
    "    print() \n",
    "    m = m - 1"
   ]
  },
  {
   "cell_type": "code",
   "execution_count": 9,
   "id": "e6e586fb-c297-4e22-a13c-59fd66fedc61",
   "metadata": {},
   "outputs": [
    {
     "name": "stdin",
     "output_type": "stream",
     "text": [
      "enter no of rows:  4\n"
     ]
    },
    {
     "name": "stdout",
     "output_type": "stream",
     "text": [
      "* * * * \n",
      "  * * * \n",
      "    * * \n",
      "      * \n"
     ]
    }
   ],
   "source": [
    "n=int(input(\"enter no of rows: \"))\n",
    "for i in range(n): \n",
    "    for j in range(i): \n",
    "        print(\"  \", end='')\n",
    "    for j in range(i,n): \n",
    "        print(\"* \", end='')\n",
    "    print()"
   ]
  },
  {
   "cell_type": "code",
   "execution_count": 10,
   "id": "a8605450-1370-4c32-9f65-29124eb19b08",
   "metadata": {},
   "outputs": [
    {
     "name": "stdout",
     "output_type": "stream",
     "text": [
      "First Least Repeating: y\n"
     ]
    }
   ],
   "source": [
    "def least_repeating_dict(s):\n",
    "    ch = {}\n",
    "    for i in s:\n",
    "        if i in ch.keys():\n",
    "            ch[i] += 1\n",
    "        else:\n",
    "            ch[i] = 1\n",
    "\n",
    "    least_rep_string = None\n",
    "    least_rep_count = float('inf')\n",
    "\n",
    "    for key,value in ch.items():\n",
    "        if value < least_rep_count:\n",
    "            least_rep_string = key\n",
    "            least_rep_count = value\n",
    "\n",
    "    if least_rep_string == None:\n",
    "        print('String Empty')\n",
    "    else:\n",
    "        print(f'First Least Repeating: {least_rep_string}')\n",
    "\n",
    "least_repeating_dict('Python Programming Students')"
   ]
  },
  {
   "cell_type": "code",
   "execution_count": 11,
   "id": "c9580a29-8abd-4c75-bef0-dc4fe43fd010",
   "metadata": {},
   "outputs": [
    {
     "name": "stdin",
     "output_type": "stream",
     "text": [
      "Enter length of password:  8\n",
      "Enter num of passwords:  3\n"
     ]
    },
    {
     "name": "stdout",
     "output_type": "stream",
     "text": [
      "mTRULdT0\n",
      "hR$G@ayT\n",
      "TcKIHBO3\n"
     ]
    }
   ],
   "source": [
    "import random\n",
    "numeric = '0123456789'\n",
    "lower=\"abcdefghijklmnopqrstuvwxyz\"\n",
    "upper=lower.upper()\n",
    "special=\"!$@#%\"\n",
    "\n",
    "password_length = int(input('Enter length of password: '))\n",
    "num_of_password = int(input('Enter num of passwords: '))\n",
    "\n",
    "def generate_password(length):\n",
    "    all_characters = lower + upper + numeric + special\n",
    "    password = ''.join(random.choice(all_characters) for _ in range(length))\n",
    "    return password\n",
    "\n",
    "for _ in range(num_of_password):\n",
    "    password = generate_password(password_length)\n",
    "    print(password)"
   ]
  },
  {
   "cell_type": "code",
   "execution_count": 12,
   "id": "452c90fc-b93b-4274-9ccc-f9f2a8737f25",
   "metadata": {},
   "outputs": [
    {
     "name": "stdout",
     "output_type": "stream",
     "text": [
      "before func: (10, 12)\n",
      "value in func: (10, 12)\n",
      "value in func: (10, 12, 2, 3)\n",
      "after func: (10, 12)\n",
      "before func: [10]\n",
      "value in func: [10]\n",
      "value in func: [10, 12, 13, 14]\n",
      "after func: [10, 12, 13, 14]\n"
     ]
    }
   ],
   "source": [
    "# call by value\n",
    "a = (10,12)\n",
    "def func1(n):\n",
    "    print(f'value in func: {n}')\n",
    "    a2 = (2,3)\n",
    "    n = n+a2\n",
    "    print(f'value in func: {n}')\n",
    "\n",
    "print(f'before func: {a}')\n",
    "func1(a)\n",
    "print(f'after func: {a}')\n",
    "\n",
    "# call by reference\n",
    "b = [10]\n",
    "def func2(n):\n",
    "    print(f'value in func: {n}')\n",
    "    n.append(12)\n",
    "    n.extend([13,14])\n",
    "    print(f'value in func: {n}')\n",
    "\n",
    "print(f'before func: {b}')\n",
    "func2(b)\n",
    "print(f'after func: {b}')"
   ]
  },
  {
   "cell_type": "code",
   "execution_count": 13,
   "id": "6a7646c1-50f5-4535-ba52-4d284ce39843",
   "metadata": {},
   "outputs": [
    {
     "name": "stdout",
     "output_type": "stream",
     "text": [
      "In Function = Local\n",
      "Outside Function = Global\n"
     ]
    }
   ],
   "source": [
    "a = 'Global'\n",
    "\n",
    "def localfunc():\n",
    "    a = 'Local'\n",
    "    print(f'In Function = {a}')\n",
    "\n",
    "localfunc()\n",
    "print(f'Outside Function = {a}')"
   ]
  },
  {
   "cell_type": "code",
   "execution_count": 14,
   "id": "453e8a65-eb91-49e9-9452-cbc577c4b80e",
   "metadata": {},
   "outputs": [
    {
     "name": "stdin",
     "output_type": "stream",
     "text": [
      "Enter a String:  chiraggulati098\n",
      "Enter char to count:  g\n"
     ]
    },
    {
     "name": "stdout",
     "output_type": "stream",
     "text": [
      "The character 'g' appears 2 times in the given string.\n"
     ]
    }
   ],
   "source": [
    "def count_character(input_string, target_char):\n",
    "    char_set = set(input_string)\n",
    "    if target_char not in char_set:\n",
    "        return 0\n",
    "    return input_string.count(target_char)\n",
    "\n",
    "input_string = input('Enter a String: ')\n",
    "target = input(\"Enter char to count: \")\n",
    "\n",
    "result = count_character(input_string, target)\n",
    "print(f\"The character '{target}' appears {result} times in the given string.\")"
   ]
  },
  {
   "cell_type": "code",
   "execution_count": null,
   "id": "027bc02a-48a8-4670-bb8f-4b8bd238319b",
   "metadata": {},
   "outputs": [],
   "source": []
  }
 ],
 "metadata": {
  "kernelspec": {
   "display_name": "Python 3 (ipykernel)",
   "language": "python",
   "name": "python3"
  },
  "language_info": {
   "codemirror_mode": {
    "name": "ipython",
    "version": 3
   },
   "file_extension": ".py",
   "mimetype": "text/x-python",
   "name": "python",
   "nbconvert_exporter": "python",
   "pygments_lexer": "ipython3",
   "version": "3.11.4"
  }
 },
 "nbformat": 4,
 "nbformat_minor": 5
}
