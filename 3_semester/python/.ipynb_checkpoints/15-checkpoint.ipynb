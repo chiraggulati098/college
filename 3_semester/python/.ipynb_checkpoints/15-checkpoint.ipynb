{
 "cells": [
  {
   "cell_type": "code",
   "execution_count": 1,
   "id": "ad373a25-e72d-4d73-9d59-35d380d15572",
   "metadata": {},
   "outputs": [],
   "source": [
    "import sys"
   ]
  },
  {
   "cell_type": "code",
   "execution_count": 2,
   "id": "1269e8c9-9d45-4ce4-be28-579713c5ff07",
   "metadata": {},
   "outputs": [
    {
     "name": "stdout",
     "output_type": "stream",
     "text": [
      "56\n",
      "40\n"
     ]
    }
   ],
   "source": [
    "a = []\n",
    "b = ()\n",
    "\n",
    "print(sys.getsizeof(a))\n",
    "print(sys.getsizeof(b))"
   ]
  },
  {
   "cell_type": "code",
   "execution_count": 4,
   "id": "8fcd48c4-6e05-4b7a-902c-e7065c7f2060",
   "metadata": {},
   "outputs": [
    {
     "name": "stdout",
     "output_type": "stream",
     "text": [
      "<class 'set'>\n"
     ]
    }
   ],
   "source": [
    "s = set()\n",
    "print(type(s))"
   ]
  },
  {
   "cell_type": "code",
   "execution_count": 5,
   "id": "4d2755d4-2168-4951-b0aa-a0ca1cb58965",
   "metadata": {},
   "outputs": [],
   "source": [
    "a = [1,2,3,4,5]"
   ]
  },
  {
   "cell_type": "code",
   "execution_count": 6,
   "id": "a02d26b8-a3eb-4597-9b27-649684dffa90",
   "metadata": {},
   "outputs": [],
   "source": [
    "a.insert(1,'one')"
   ]
  },
  {
   "cell_type": "code",
   "execution_count": 19,
   "id": "e0533f9c-1707-40f2-99b5-a82aa60e0e24",
   "metadata": {},
   "outputs": [
    {
     "data": {
      "text/plain": [
       "[75, 34, 34, 21, 13, 4, 2, 1]"
      ]
     },
     "execution_count": 19,
     "metadata": {},
     "output_type": "execute_result"
    }
   ],
   "source": [
    "a"
   ]
  },
  {
   "cell_type": "code",
   "execution_count": 9,
   "id": "664cf76f-116a-4ca9-bcbd-aac41827b3b6",
   "metadata": {},
   "outputs": [
    {
     "data": {
      "text/plain": [
       "'one'"
      ]
     },
     "execution_count": 9,
     "metadata": {},
     "output_type": "execute_result"
    }
   ],
   "source": [
    "a.pop(1)"
   ]
  },
  {
   "cell_type": "code",
   "execution_count": 12,
   "id": "0b56d18a-f2a3-4a14-a22f-3006f2cb04ab",
   "metadata": {},
   "outputs": [],
   "source": [
    "a.remove(3)"
   ]
  },
  {
   "cell_type": "code",
   "execution_count": 14,
   "id": "9bd058bd-fe6e-4d8a-bf0f-a6f579be01f1",
   "metadata": {},
   "outputs": [],
   "source": [
    "a.extend([34,21,34,13,75])"
   ]
  },
  {
   "cell_type": "code",
   "execution_count": 16,
   "id": "4698e752-6588-46ce-9e97-9e991f0374ca",
   "metadata": {},
   "outputs": [],
   "source": [
    "a.sort()"
   ]
  },
  {
   "cell_type": "code",
   "execution_count": 18,
   "id": "b9c42465-723a-44d9-93ea-9aa6269838e1",
   "metadata": {},
   "outputs": [],
   "source": [
    "a.reverse()"
   ]
  },
  {
   "cell_type": "code",
   "execution_count": 20,
   "id": "25887a8f-70c9-4ecc-a241-02ce11dd709a",
   "metadata": {},
   "outputs": [],
   "source": [
    "b = (12,13,124,513,51,23,421,125,12,21,21,21)"
   ]
  },
  {
   "cell_type": "code",
   "execution_count": 22,
   "id": "cce6b14f-ab7a-484b-aff1-35836153ece6",
   "metadata": {},
   "outputs": [
    {
     "data": {
      "text/plain": [
       "0"
      ]
     },
     "execution_count": 22,
     "metadata": {},
     "output_type": "execute_result"
    }
   ],
   "source": [
    "b.count(243)"
   ]
  },
  {
   "cell_type": "code",
   "execution_count": 24,
   "id": "8a4b43af-fe81-44d8-a35b-0dcd2f6a753f",
   "metadata": {},
   "outputs": [
    {
     "data": {
      "text/plain": [
       "4"
      ]
     },
     "execution_count": 24,
     "metadata": {},
     "output_type": "execute_result"
    }
   ],
   "source": [
    "b.index(51)"
   ]
  },
  {
   "cell_type": "code",
   "execution_count": 33,
   "id": "a9c8d175-8059-440d-bbb5-f5b61727b786",
   "metadata": {},
   "outputs": [],
   "source": [
    "s = {23,12,53,124,343}"
   ]
  },
  {
   "cell_type": "code",
   "execution_count": 34,
   "id": "49aff0dc-2a86-4ed5-9720-025ebbd1b9ad",
   "metadata": {},
   "outputs": [
    {
     "data": {
      "text/plain": [
       "set"
      ]
     },
     "execution_count": 34,
     "metadata": {},
     "output_type": "execute_result"
    }
   ],
   "source": [
    "type(s)"
   ]
  },
  {
   "cell_type": "code",
   "execution_count": 58,
   "id": "6097db76-bb40-433f-baa4-81addb23da6e",
   "metadata": {},
   "outputs": [],
   "source": [
    "s.add(34)"
   ]
  },
  {
   "cell_type": "code",
   "execution_count": 59,
   "id": "e405faf9-d2ef-4a94-a9b5-855433936cd5",
   "metadata": {},
   "outputs": [
    {
     "data": {
      "text/plain": [
       "{1, 34, 43, 56}"
      ]
     },
     "execution_count": 59,
     "metadata": {},
     "output_type": "execute_result"
    }
   ],
   "source": [
    "s"
   ]
  },
  {
   "cell_type": "code",
   "execution_count": 38,
   "id": "5d79485c-50e3-4a11-a9be-0cf5d9669dc2",
   "metadata": {},
   "outputs": [],
   "source": [
    "s1 = s.copy()"
   ]
  },
  {
   "cell_type": "code",
   "execution_count": 77,
   "id": "24bf5070-22b2-4520-8923-189e3b4f4848",
   "metadata": {},
   "outputs": [
    {
     "data": {
      "text/plain": [
       "{12, 343, 'no'}"
      ]
     },
     "execution_count": 77,
     "metadata": {},
     "output_type": "execute_result"
    }
   ],
   "source": [
    "s1"
   ]
  },
  {
   "cell_type": "code",
   "execution_count": 74,
   "id": "3549d5d3-714b-4775-9c7e-fb1443977969",
   "metadata": {},
   "outputs": [],
   "source": [
    "s1.add('no')"
   ]
  },
  {
   "cell_type": "code",
   "execution_count": 41,
   "id": "56428630-e9bc-4aba-b078-df910f2b1aad",
   "metadata": {},
   "outputs": [],
   "source": [
    "s.add(1)"
   ]
  },
  {
   "cell_type": "code",
   "execution_count": 46,
   "id": "d3f35df6-c756-4f86-84cd-411678b5138f",
   "metadata": {},
   "outputs": [
    {
     "data": {
      "text/plain": [
       "{1}"
      ]
     },
     "execution_count": 46,
     "metadata": {},
     "output_type": "execute_result"
    }
   ],
   "source": [
    "s.difference(s1)"
   ]
  },
  {
   "cell_type": "code",
   "execution_count": 61,
   "id": "66f74044-6ea3-4985-b094-481e1d3e71c8",
   "metadata": {},
   "outputs": [
    {
     "data": {
      "text/plain": [
       "False"
      ]
     },
     "execution_count": 61,
     "metadata": {},
     "output_type": "execute_result"
    }
   ],
   "source": [
    "s.isdisjoint(s1)"
   ]
  },
  {
   "cell_type": "code",
   "execution_count": 62,
   "id": "cee06fa2-6609-400e-8afd-835bbd783980",
   "metadata": {},
   "outputs": [],
   "source": [
    "s2 = {1,2,3,4,5,6,7,8,9,10}\n",
    "s3 = {1,4,5}"
   ]
  },
  {
   "cell_type": "code",
   "execution_count": 63,
   "id": "8f6f571c-ab21-4907-8c02-763be1188d60",
   "metadata": {},
   "outputs": [
    {
     "data": {
      "text/plain": [
       "True"
      ]
     },
     "execution_count": 63,
     "metadata": {},
     "output_type": "execute_result"
    }
   ],
   "source": [
    "s3.issubset(s2)"
   ]
  },
  {
   "cell_type": "code",
   "execution_count": 65,
   "id": "30b92491-bea6-461c-bc6b-6b05cd1b9c36",
   "metadata": {},
   "outputs": [
    {
     "data": {
      "text/plain": [
       "True"
      ]
     },
     "execution_count": 65,
     "metadata": {},
     "output_type": "execute_result"
    }
   ],
   "source": [
    "s2.issuperset(s3)"
   ]
  },
  {
   "cell_type": "code",
   "execution_count": 76,
   "id": "37522b01-c746-407e-b38b-44460655b4e5",
   "metadata": {},
   "outputs": [
    {
     "data": {
      "text/plain": [
       "23"
      ]
     },
     "execution_count": 76,
     "metadata": {},
     "output_type": "execute_result"
    }
   ],
   "source": [
    "s1.pop()"
   ]
  },
  {
   "cell_type": "code",
   "execution_count": 79,
   "id": "2b070ac9-22ab-4b7c-a7fd-0eebf7b0ecbe",
   "metadata": {},
   "outputs": [
    {
     "data": {
      "text/plain": [
       "{2, 3, 6, 7, 8, 9, 10}"
      ]
     },
     "execution_count": 79,
     "metadata": {},
     "output_type": "execute_result"
    }
   ],
   "source": [
    "s3.symmetric_difference(s2)"
   ]
  },
  {
   "cell_type": "code",
   "execution_count": 80,
   "id": "da2764b7-ea55-45ff-9e7a-3d51a94e2297",
   "metadata": {},
   "outputs": [
    {
     "data": {
      "text/plain": [
       "{1, 2, 3, 4, 5, 6, 7, 8, 9, 10}"
      ]
     },
     "execution_count": 80,
     "metadata": {},
     "output_type": "execute_result"
    }
   ],
   "source": [
    "s3.union(s2)"
   ]
  },
  {
   "cell_type": "code",
   "execution_count": 81,
   "id": "6ee70421-4b57-4b3e-8793-c1dcd1329870",
   "metadata": {},
   "outputs": [
    {
     "data": {
      "text/plain": [
       "{1, 4, 5}"
      ]
     },
     "execution_count": 81,
     "metadata": {},
     "output_type": "execute_result"
    }
   ],
   "source": [
    "s3.intersection(s2)"
   ]
  },
  {
   "cell_type": "code",
   "execution_count": 90,
   "id": "faaafd52-ad93-4600-86e0-505736d9c080",
   "metadata": {},
   "outputs": [],
   "source": [
    "s2.update(s2.intersection(s3))"
   ]
  },
  {
   "cell_type": "code",
   "execution_count": 91,
   "id": "3690b626-e6cf-4da9-96d7-36b0e1bc8992",
   "metadata": {},
   "outputs": [
    {
     "data": {
      "text/plain": [
       "{1, 2, 3, 4, 5, 6, 7, 8, 9, 10}"
      ]
     },
     "execution_count": 91,
     "metadata": {},
     "output_type": "execute_result"
    }
   ],
   "source": [
    "s2"
   ]
  },
  {
   "cell_type": "code",
   "execution_count": 95,
   "id": "a7050ef4-1e64-4d93-9ca6-4affb9c01801",
   "metadata": {},
   "outputs": [],
   "source": [
    "l = [12,23,124,124,124,2,42]"
   ]
  },
  {
   "cell_type": "code",
   "execution_count": 96,
   "id": "5d702c10-5261-43d1-8f36-0423a4d6e8dd",
   "metadata": {},
   "outputs": [],
   "source": [
    "s2.update(l)"
   ]
  },
  {
   "cell_type": "code",
   "execution_count": 97,
   "id": "832e6581-4d6e-4cd2-8cb1-9105d76aa109",
   "metadata": {},
   "outputs": [
    {
     "data": {
      "text/plain": [
       "{1, 2, 3, 4, 5, 6, 7, 8, 9, 10, 12, 23, 42, 124}"
      ]
     },
     "execution_count": 97,
     "metadata": {},
     "output_type": "execute_result"
    }
   ],
   "source": [
    "s2"
   ]
  },
  {
   "cell_type": "code",
   "execution_count": 121,
   "id": "1ac1b683-89f6-4afa-874c-489488cd7f70",
   "metadata": {},
   "outputs": [],
   "source": [
    "d = {'a':1,'b':2,3:'c',4:'d'}"
   ]
  },
  {
   "cell_type": "code",
   "execution_count": 104,
   "id": "b0691eb3-83ff-4ed5-ad30-6b107895a762",
   "metadata": {},
   "outputs": [
    {
     "data": {
      "text/plain": [
       "{'a': 1, 'b': 2, 3: 'c', 4: 'd'}"
      ]
     },
     "execution_count": 104,
     "metadata": {},
     "output_type": "execute_result"
    }
   ],
   "source": [
    "d.copy()"
   ]
  },
  {
   "cell_type": "code",
   "execution_count": 109,
   "id": "1b1729ac-b46e-46cc-984f-2039ebe186df",
   "metadata": {},
   "outputs": [
    {
     "data": {
      "text/plain": [
       "{'a': 11, 'b': 11, 'c': 11}"
      ]
     },
     "execution_count": 109,
     "metadata": {},
     "output_type": "execute_result"
    }
   ],
   "source": [
    "k1 = ('a','b','c')\n",
    "k2 = 11\n",
    "\n",
    "dic = dict.fromkeys(k1,k2)\n",
    "dic"
   ]
  },
  {
   "cell_type": "code",
   "execution_count": 111,
   "id": "facbbb92-3b77-4e96-875c-90622ec8de3d",
   "metadata": {},
   "outputs": [
    {
     "data": {
      "text/plain": [
       "'c'"
      ]
     },
     "execution_count": 111,
     "metadata": {},
     "output_type": "execute_result"
    }
   ],
   "source": [
    "d[3]"
   ]
  },
  {
   "cell_type": "code",
   "execution_count": 113,
   "id": "e7a3de71-c3b7-4ca1-8f4a-426af71b35bc",
   "metadata": {},
   "outputs": [
    {
     "data": {
      "text/plain": [
       "'c'"
      ]
     },
     "execution_count": 113,
     "metadata": {},
     "output_type": "execute_result"
    }
   ],
   "source": [
    "d.get(3)"
   ]
  },
  {
   "cell_type": "code",
   "execution_count": 117,
   "id": "900944e6-0321-4762-92c0-93d77492abee",
   "metadata": {},
   "outputs": [
    {
     "name": "stdout",
     "output_type": "stream",
     "text": [
      "a 1\n",
      "b 2\n",
      "3 c\n",
      "4 d\n"
     ]
    }
   ],
   "source": [
    "for x,y in d.items():\n",
    "    print(x,y)"
   ]
  },
  {
   "cell_type": "code",
   "execution_count": 118,
   "id": "f530c59f-c64e-47fa-bd52-affa0710bbb2",
   "metadata": {},
   "outputs": [
    {
     "data": {
      "text/plain": [
       "dict_keys(['a', 'b', 3, 4])"
      ]
     },
     "execution_count": 118,
     "metadata": {},
     "output_type": "execute_result"
    }
   ],
   "source": [
    "d.keys()"
   ]
  },
  {
   "cell_type": "code",
   "execution_count": 119,
   "id": "ef185f48-600b-4d59-b6b8-265bd573cd0a",
   "metadata": {},
   "outputs": [
    {
     "data": {
      "text/plain": [
       "'d'"
      ]
     },
     "execution_count": 119,
     "metadata": {},
     "output_type": "execute_result"
    }
   ],
   "source": [
    "d.pop(4)"
   ]
  },
  {
   "cell_type": "code",
   "execution_count": 125,
   "id": "281bcd49-a7be-4602-b965-dbdde6fa8f65",
   "metadata": {},
   "outputs": [
    {
     "data": {
      "text/plain": [
       "{'a': 1, 'b': 2, 3: 'c'}"
      ]
     },
     "execution_count": 125,
     "metadata": {},
     "output_type": "execute_result"
    }
   ],
   "source": [
    "d"
   ]
  },
  {
   "cell_type": "code",
   "execution_count": 124,
   "id": "19bf658b-253e-4cbf-ade6-97725180989f",
   "metadata": {},
   "outputs": [
    {
     "data": {
      "text/plain": [
       "(4, 'd')"
      ]
     },
     "execution_count": 124,
     "metadata": {},
     "output_type": "execute_result"
    }
   ],
   "source": [
    "d.popitem()"
   ]
  },
  {
   "cell_type": "code",
   "execution_count": 126,
   "id": "c470b2d5-c5c9-4470-9e06-ef42543459d4",
   "metadata": {},
   "outputs": [
    {
     "data": {
      "text/plain": [
       "dict_values([1, 2, 'c'])"
      ]
     },
     "execution_count": 126,
     "metadata": {},
     "output_type": "execute_result"
    }
   ],
   "source": [
    "d.values()"
   ]
  },
  {
   "cell_type": "code",
   "execution_count": 127,
   "id": "679439f5-df74-44d8-838b-1ec757443480",
   "metadata": {},
   "outputs": [],
   "source": [
    "d.update({4:'d','new':23})"
   ]
  },
  {
   "cell_type": "code",
   "execution_count": 128,
   "id": "b6e148e1-c2c7-4225-861a-17e41daa22d7",
   "metadata": {},
   "outputs": [
    {
     "data": {
      "text/plain": [
       "{'a': 1, 'b': 2, 3: 'c', 4: 'd', 'new': 23}"
      ]
     },
     "execution_count": 128,
     "metadata": {},
     "output_type": "execute_result"
    }
   ],
   "source": [
    "d"
   ]
  },
  {
   "cell_type": "code",
   "execution_count": 129,
   "id": "2afe6bb8-574a-45f2-b504-5538517057ff",
   "metadata": {},
   "outputs": [
    {
     "data": {
      "text/plain": [
       "('new', 23)"
      ]
     },
     "execution_count": 129,
     "metadata": {},
     "output_type": "execute_result"
    }
   ],
   "source": [
    "d.popitem()"
   ]
  },
  {
   "cell_type": "code",
   "execution_count": 130,
   "id": "00474480-c316-4143-9d1b-ca21b14fa882",
   "metadata": {},
   "outputs": [
    {
     "data": {
      "text/plain": [
       "{'a': 1, 'b': 2, 3: 'c', 4: 'd'}"
      ]
     },
     "execution_count": 130,
     "metadata": {},
     "output_type": "execute_result"
    }
   ],
   "source": [
    "d"
   ]
  },
  {
   "cell_type": "code",
   "execution_count": 146,
   "id": "7ec3f322-76da-4982-9b89-c01c8f924412",
   "metadata": {},
   "outputs": [],
   "source": [
    "class Employee():\n",
    "    def __init__(self,name,id):\n",
    "        self.name = name\n",
    "        self.id = id\n",
    "\n",
    "    def personal_info(self):\n",
    "        print(f'Name = {self.name}\\nId = {self.id}')\n",
    "\n",
    "class Student(Employee):\n",
    "    def __init__(self,name,id,department,marks):\n",
    "        Employee.__init__(self,name,id)\n",
    "        self.department = department\n",
    "        self.marks = marks\n",
    "\n",
    "    def student_info(self):\n",
    "        print(f'Name = {self.name}\\nId = {self.id}\\nDepartment = {self.department}\\nMarks = {self.marks}')"
   ]
  },
  {
   "cell_type": "code",
   "execution_count": 147,
   "id": "ca1b4b21-3024-4f44-a5dd-67d9038bfc07",
   "metadata": {},
   "outputs": [
    {
     "name": "stdout",
     "output_type": "stream",
     "text": [
      "Name = Chirag\n",
      "Id = 118\n",
      "Department = CSE\n",
      "Marks = 99\n"
     ]
    }
   ],
   "source": [
    "e = Student(\"Chirag\",118,'CSE',99)\n",
    "e.student_info()"
   ]
  },
  {
   "cell_type": "code",
   "execution_count": null,
   "id": "02413bef-94b7-452e-89fb-83a93895b241",
   "metadata": {},
   "outputs": [],
   "source": []
  }
 ],
 "metadata": {
  "kernelspec": {
   "display_name": "Python 3 (ipykernel)",
   "language": "python",
   "name": "python3"
  },
  "language_info": {
   "codemirror_mode": {
    "name": "ipython",
    "version": 3
   },
   "file_extension": ".py",
   "mimetype": "text/x-python",
   "name": "python",
   "nbconvert_exporter": "python",
   "pygments_lexer": "ipython3",
   "version": "3.11.4"
  }
 },
 "nbformat": 4,
 "nbformat_minor": 5
}
