{
 "cells": [
  {
   "cell_type": "code",
   "execution_count": 10,
   "id": "b790fff9-b75d-43c4-a056-c13de8ab676b",
   "metadata": {},
   "outputs": [],
   "source": [
    "subject_name = {'c++','python','java'}\n",
    "subject_marks = {90,80,75}"
   ]
  },
  {
   "cell_type": "code",
   "execution_count": 3,
   "id": "2e2bd421-0b7d-4e2e-8604-43faafaff9b6",
   "metadata": {},
   "outputs": [
    {
     "data": {
      "text/plain": [
       "{75, 80, 90, 'c++', 'java', 'python'}"
      ]
     },
     "execution_count": 3,
     "metadata": {},
     "output_type": "execute_result"
    }
   ],
   "source": [
    "subject_marks.union(subject_name)"
   ]
  },
  {
   "cell_type": "code",
   "execution_count": 8,
   "id": "0b59c57c-b94c-4ab9-aabf-0c52a2ce6a54",
   "metadata": {},
   "outputs": [],
   "source": [
    "subject_marks.update(list(subject_name))"
   ]
  },
  {
   "cell_type": "code",
   "execution_count": 9,
   "id": "48761a74-c57a-483e-8963-251f915cca5a",
   "metadata": {},
   "outputs": [
    {
     "data": {
      "text/plain": [
       "{75, 80, 90, 'c++', 'java', 'python'}"
      ]
     },
     "execution_count": 9,
     "metadata": {},
     "output_type": "execute_result"
    }
   ],
   "source": [
    "subject_marks"
   ]
  },
  {
   "cell_type": "code",
   "execution_count": 11,
   "id": "62905d71-6257-4f90-89ba-5c4b9ca1f811",
   "metadata": {},
   "outputs": [],
   "source": [
    "l1 = list(subject_marks)\n",
    "for x in l1:\n",
    "    subject_name.add(x)"
   ]
  },
  {
   "cell_type": "code",
   "execution_count": 12,
   "id": "e133a561-5965-4711-8a47-3a15d89c70bf",
   "metadata": {},
   "outputs": [
    {
     "data": {
      "text/plain": [
       "{75, 80, 90, 'c++', 'java', 'python'}"
      ]
     },
     "execution_count": 12,
     "metadata": {},
     "output_type": "execute_result"
    }
   ],
   "source": [
    "subject_name"
   ]
  },
  {
   "cell_type": "code",
   "execution_count": null,
   "id": "449eb791-4ccc-4664-90fd-324f6fd25e88",
   "metadata": {},
   "outputs": [],
   "source": []
  },
  {
   "cell_type": "code",
   "execution_count": null,
   "id": "b9c416eb-7165-4a4f-a346-923aabf8c30e",
   "metadata": {},
   "outputs": [],
   "source": []
  },
  {
   "cell_type": "code",
   "execution_count": 16,
   "id": "30139cac-167e-458d-b78f-b18c2ad95806",
   "metadata": {},
   "outputs": [],
   "source": [
    "d = {'ins':'Amity','No':23,'Student_count':144}"
   ]
  },
  {
   "cell_type": "code",
   "execution_count": 14,
   "id": "0fe4c52b-a423-4100-8637-dce51e265b54",
   "metadata": {},
   "outputs": [
    {
     "data": {
      "text/plain": [
       "('Student_count', 144)"
      ]
     },
     "execution_count": 14,
     "metadata": {},
     "output_type": "execute_result"
    }
   ],
   "source": [
    "d.popitem()"
   ]
  },
  {
   "cell_type": "code",
   "execution_count": 17,
   "id": "08cedb0f-60de-43e3-8353-e8199949438a",
   "metadata": {},
   "outputs": [],
   "source": [
    "del d['Student_count']"
   ]
  },
  {
   "cell_type": "code",
   "execution_count": 18,
   "id": "b7b91f7f-7aee-4840-8138-9e81da90c058",
   "metadata": {},
   "outputs": [
    {
     "data": {
      "text/plain": [
       "{'ins': 'Amity', 'No': 23}"
      ]
     },
     "execution_count": 18,
     "metadata": {},
     "output_type": "execute_result"
    }
   ],
   "source": [
    "d"
   ]
  },
  {
   "cell_type": "code",
   "execution_count": null,
   "id": "7311fc89-74fc-4d84-a53f-48f264c78375",
   "metadata": {},
   "outputs": [],
   "source": []
  }
 ],
 "metadata": {
  "kernelspec": {
   "display_name": "Python 3 (ipykernel)",
   "language": "python",
   "name": "python3"
  },
  "language_info": {
   "codemirror_mode": {
    "name": "ipython",
    "version": 3
   },
   "file_extension": ".py",
   "mimetype": "text/x-python",
   "name": "python",
   "nbconvert_exporter": "python",
   "pygments_lexer": "ipython3",
   "version": "3.11.4"
  }
 },
 "nbformat": 4,
 "nbformat_minor": 5
}
