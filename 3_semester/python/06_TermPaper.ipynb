{
 "cells": [
  {
   "cell_type": "markdown",
   "id": "03b2cc83-a659-402b-9140-6e03aaec964b",
   "metadata": {},
   "source": [
    "## Q-1 Using strings, build a similarity checker code using Python. Display the output in percentage unit"
   ]
  },
  {
   "cell_type": "code",
   "execution_count": 28,
   "id": "5cb4a1ae-0392-4dfc-9cf5-d2a52a0372aa",
   "metadata": {},
   "outputs": [
    {
     "name": "stdin",
     "output_type": "stream",
     "text": [
      "enter 1st string:  chirag\n",
      "enter 2nd string:  chiraggulati\n"
     ]
    },
    {
     "name": "stdout",
     "output_type": "stream",
     "text": [
      "\n",
      "Similarity = 66.67\n"
     ]
    }
   ],
   "source": [
    "from difflib import SequenceMatcher\n",
    "\n",
    "str1 = input(\"enter 1st string: \")\n",
    "str2 = input(\"enter 2nd string: \")\n",
    "\n",
    "res = (SequenceMatcher(a=str1,b=str2).ratio())*100\n",
    "print(f'\\nSimilarity = {round(res,2)}')"
   ]
  },
  {
   "cell_type": "markdown",
   "id": "b95a0992-8db7-4060-aa25-7b0dbcc9866b",
   "metadata": {},
   "source": [
    "## Q-2 \n",
    "### a. Program to check for first least repeating character in a string \"Python Programming Student\"\n",
    "### b. count of 'n' in a string \"Python Programming Student\"\n",
    "### c. count of all elements in a string \"Python Programming Student\""
   ]
  },
  {
   "cell_type": "code",
   "execution_count": 26,
   "id": "fed234c5-e18d-42d2-ad9e-d536b07d3780",
   "metadata": {},
   "outputs": [
    {
     "name": "stdout",
     "output_type": "stream",
     "text": [
      "Answers: \n",
      "a. first least repeating character = y\n",
      "b. count of 'n' = 3\n",
      "c. count of all elements: \n",
      "p:2   y:1   t:3   h:1   o:2   n:3    :2   r:2   g:2   a:1   m:2   i:1   s:1   u:1   d:1   e:1   "
     ]
    }
   ],
   "source": [
    "a = 'Python Programming Student'\n",
    "char_dict = {}\n",
    "\n",
    "for x in a:\n",
    "    x = x.lower()\n",
    "    if x not in char_dict.keys():\n",
    "        char_dict[x] = 1\n",
    "    else:\n",
    "        char_dict[x]+=1\n",
    "\n",
    "print(\"Answers: \")\n",
    "\n",
    "for x in char_dict.keys():\n",
    "    if char_dict[x] == 1: \n",
    "        print(f'a. first least repeating character = {x}')\n",
    "        break\n",
    "\n",
    "print(f\"b. count of 'n' = {char_dict['n']}\")\n",
    "\n",
    "print(f\"c. count of all elements: \")\n",
    "for x in char_dict.keys():\n",
    "    print(f'{x}:{char_dict[x]}',end='   ')"
   ]
  },
  {
   "cell_type": "markdown",
   "id": "9f301248-1d84-44a4-a29d-87d99c3e4c93",
   "metadata": {},
   "source": [
    "## Q-3 Write a Python program to calculate a dog's age in dog years.\n",
    "### Note: For the first 2 years, a dog year is equal to 10.5 human years. After that each dog year equals 4 human years."
   ]
  },
  {
   "cell_type": "code",
   "execution_count": 33,
   "id": "6eecc920-eb0e-4346-820f-2fa0950b8eec",
   "metadata": {},
   "outputs": [
    {
     "name": "stdin",
     "output_type": "stream",
     "text": [
      "Input a dog's age in humam years 15\n"
     ]
    },
    {
     "name": "stdout",
     "output_type": "stream",
     "text": [
      "enter a right age please\n",
      "The dog's age in dog's years is 73.0\n"
     ]
    }
   ],
   "source": [
    "age = int(input(\"Input a dog's age in humam years\"))\n",
    "dog_age = 0.0\n",
    "\n",
    "if age >= 0:\n",
    "    print('enter a right age please')\n",
    "\n",
    "while (age>0):\n",
    "    if (age<=2):\n",
    "        dog_age += 10.5\n",
    "    else:\n",
    "        dog_age += 4\n",
    "    age -= 1\n",
    "\n",
    "print(f\"The dog's age in dog's years is {dog_age}\")"
   ]
  },
  {
   "cell_type": "markdown",
   "id": "143d8424-7b4e-482b-9eba-71e000974b72",
   "metadata": {},
   "source": [
    "## Q-4 Write a Python code to generate a Bill Receipt generator for the store \"AmityHUB\""
   ]
  },
  {
   "cell_type": "code",
   "execution_count": 46,
   "id": "d07c115f-1ee0-44ae-9028-551cc5a7d00c",
   "metadata": {},
   "outputs": [
    {
     "name": "stdin",
     "output_type": "stream",
     "text": [
      "How many items do you want to add:  5\n",
      "enter name:  notebook\n",
      "enter price:  40\n",
      "enter name:  practical file\n",
      "enter price:  80\n",
      "enter name:  trimax\n",
      "enter price:  40\n",
      "enter name:  compass 30\n",
      "enter price:  30\n",
      "enter name:  eraser\n",
      "enter price:  5\n"
     ]
    },
    {
     "name": "stdout",
     "output_type": "stream",
     "text": [
      "\n",
      "|-----------------AmityHUB----------------|\n",
      "|---------------Bill Receipt--------------|\n",
      "|      notebook      |        40.0        |\n",
      "|   practical file   |        80.0        |\n",
      "|       trimax       |        40.0        |\n",
      "|     compass 30     |        30.0        |\n",
      "|       eraser       |        5.0         |\n",
      "|-----------------------------------------|\n",
      "|    Total Price     |       195.0        |\n"
     ]
    }
   ],
   "source": [
    "name = []\n",
    "price = []\n",
    "\n",
    "num = int(input(\"How many items do you want to add: \"))\n",
    "\n",
    "for i in range(num):\n",
    "    a = input('enter name: ')\n",
    "    b = float(input('enter price: '))\n",
    "    name.append(a)\n",
    "    price.append(b)\n",
    "\n",
    "print()\n",
    "print('|'+'AmityHUB'.center(41,'-')+'|')\n",
    "print('|'+'Bill Receipt'.center(41,'-')+'|')\n",
    "\n",
    "for i in range(num):\n",
    "    print(f'|{name[i].center(20)}|{str(price[i]).center(20)}|')\n",
    "\n",
    "print('|'+''.center(41,'-')+'|')\n",
    "print(f'|{'Total Price'.center(20)}|{str(sum(price)).center(20)}|')"
   ]
  },
  {
   "cell_type": "code",
   "execution_count": null,
   "id": "307bab22-9c3d-4d6b-82ec-514d41049262",
   "metadata": {},
   "outputs": [],
   "source": []
  }
 ],
 "metadata": {
  "kernelspec": {
   "display_name": "Python 3 (ipykernel)",
   "language": "python",
   "name": "python3"
  },
  "language_info": {
   "codemirror_mode": {
    "name": "ipython",
    "version": 3
   },
   "file_extension": ".py",
   "mimetype": "text/x-python",
   "name": "python",
   "nbconvert_exporter": "python",
   "pygments_lexer": "ipython3",
   "version": "3.12.0"
  }
 },
 "nbformat": 4,
 "nbformat_minor": 5
}
