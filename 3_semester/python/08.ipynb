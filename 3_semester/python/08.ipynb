{
 "cells": [
  {
   "cell_type": "code",
   "execution_count": 6,
   "id": "85470898-1b29-4d31-87b5-00fd816a0bfe",
   "metadata": {},
   "outputs": [],
   "source": [
    "fruits = (\"banana\",'apple','cherry','orange','kiwi','guava')\n",
    "(green,*yellow,red) = fruits"
   ]
  },
  {
   "cell_type": "code",
   "execution_count": 7,
   "id": "780c6495-45bf-4e02-b8dd-23c45e6ad851",
   "metadata": {},
   "outputs": [
    {
     "name": "stdout",
     "output_type": "stream",
     "text": [
      "banana\n",
      "['apple', 'cherry', 'orange', 'kiwi']\n",
      "guava\n"
     ]
    }
   ],
   "source": [
    "print(green)\n",
    "print(yellow)\n",
    "print(red)"
   ]
  },
  {
   "cell_type": "code",
   "execution_count": 8,
   "id": "8ff55bed-6b0c-40bf-8ff3-82bf68213d4a",
   "metadata": {},
   "outputs": [
    {
     "name": "stdout",
     "output_type": "stream",
     "text": [
      "banana  apple  cherry  orange  kiwi  guava  "
     ]
    }
   ],
   "source": [
    "for x in fruits:\n",
    "    print(x,end = '  ')"
   ]
  },
  {
   "cell_type": "code",
   "execution_count": 9,
   "id": "3d64f293-15a5-4c9e-80b1-d725872b37e4",
   "metadata": {},
   "outputs": [
    {
     "name": "stdout",
     "output_type": "stream",
     "text": [
      "banana  apple  cherry  orange  kiwi  guava  "
     ]
    }
   ],
   "source": [
    "for x in range(len(fruits)):\n",
    "    print(fruits[x],end = '  ')"
   ]
  },
  {
   "cell_type": "code",
   "execution_count": 18,
   "id": "1a9ba134-6696-4c12-9a1d-1fc653125c80",
   "metadata": {},
   "outputs": [
    {
     "name": "stdout",
     "output_type": "stream",
     "text": [
      "banana  apple  cherry  orange  kiwi  guava  "
     ]
    }
   ],
   "source": [
    "i=0\n",
    "while i<len(fruits):\n",
    "    print(fruits[i],end = '  ')\n",
    "    i+=1"
   ]
  },
  {
   "cell_type": "code",
   "execution_count": null,
   "id": "487e8d18-3262-4bd9-8c27-3b5973dbe6ec",
   "metadata": {},
   "outputs": [],
   "source": []
  },
  {
   "cell_type": "code",
   "execution_count": 19,
   "id": "4212ec68-6c02-428d-ba06-511b9a0d9507",
   "metadata": {},
   "outputs": [],
   "source": [
    "fruits = ('banana','apple','cherry','orange','kiwi','guava')\n",
    "colour = ('green','yellow','red','black','prink')"
   ]
  },
  {
   "cell_type": "code",
   "execution_count": 22,
   "id": "5960c013-5419-449e-9160-867b29a63942",
   "metadata": {},
   "outputs": [
    {
     "name": "stdout",
     "output_type": "stream",
     "text": [
      "('banana', 'apple', 'cherry', 'orange', 'kiwi', 'guava', 'green', 'yellow', 'red', 'black', 'prink')\n"
     ]
    }
   ],
   "source": [
    "newtuple = fruits+colour\n",
    "print(newtuple)"
   ]
  },
  {
   "cell_type": "code",
   "execution_count": 23,
   "id": "5c1d8352-a2cb-4d49-8659-63932ebef367",
   "metadata": {},
   "outputs": [
    {
     "name": "stdout",
     "output_type": "stream",
     "text": [
      "('banana', 'apple', 'cherry', 'orange', 'kiwi', 'guava', 'banana', 'apple', 'cherry', 'orange', 'kiwi', 'guava', 'banana', 'apple', 'cherry', 'orange', 'kiwi', 'guava')\n"
     ]
    }
   ],
   "source": [
    "print(fruits*3)"
   ]
  },
  {
   "cell_type": "code",
   "execution_count": 24,
   "id": "7e240f73-fee4-4189-87c4-ec32f83c49b6",
   "metadata": {},
   "outputs": [
    {
     "name": "stdout",
     "output_type": "stream",
     "text": [
      "('green', 'yellow', 'red', 'black', 'prink', 'green', 'yellow', 'red', 'black', 'prink', 'green', 'yellow', 'red', 'black', 'prink', 'green', 'yellow', 'red', 'black', 'prink')\n"
     ]
    }
   ],
   "source": [
    "print(colour*4)"
   ]
  },
  {
   "cell_type": "code",
   "execution_count": 28,
   "id": "f17ec54f-adbb-4c05-ba6a-d2639318876e",
   "metadata": {},
   "outputs": [
    {
     "data": {
      "text/plain": [
       "2"
      ]
     },
     "execution_count": 28,
     "metadata": {},
     "output_type": "execute_result"
    }
   ],
   "source": [
    "colour.index('red')"
   ]
  },
  {
   "cell_type": "code",
   "execution_count": 31,
   "id": "c0290018-e2fc-423f-9752-133e70f224c5",
   "metadata": {},
   "outputs": [
    {
     "data": {
      "text/plain": [
       "1"
      ]
     },
     "execution_count": 31,
     "metadata": {},
     "output_type": "execute_result"
    }
   ],
   "source": [
    "colour.count('red')"
   ]
  },
  {
   "cell_type": "code",
   "execution_count": null,
   "id": "9b72ee86-50c1-4620-a664-397756041216",
   "metadata": {},
   "outputs": [],
   "source": []
  }
 ],
 "metadata": {
  "kernelspec": {
   "display_name": "Python 3 (ipykernel)",
   "language": "python",
   "name": "python3"
  },
  "language_info": {
   "codemirror_mode": {
    "name": "ipython",
    "version": 3
   },
   "file_extension": ".py",
   "mimetype": "text/x-python",
   "name": "python",
   "nbconvert_exporter": "python",
   "pygments_lexer": "ipython3",
   "version": "3.12.0"
  }
 },
 "nbformat": 4,
 "nbformat_minor": 5
}
