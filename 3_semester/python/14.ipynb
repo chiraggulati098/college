{
 "cells": [
  {
   "cell_type": "code",
   "execution_count": 1,
   "id": "91a25e17-4e94-45ea-be33-29dc2318626e",
   "metadata": {},
   "outputs": [
    {
     "name": "stdin",
     "output_type": "stream",
     "text": [
      "enter name of subject:  dsa\n"
     ]
    }
   ],
   "source": [
    "sub = input(\"enter name of subject: \")"
   ]
  },
  {
   "cell_type": "code",
   "execution_count": 7,
   "id": "b30dc49d-40a6-417e-8621-c32ac64a3611",
   "metadata": {},
   "outputs": [
    {
     "name": "stdin",
     "output_type": "stream",
     "text": [
      "enter classes attended:  83\n",
      "enter total classes:  100\n"
     ]
    }
   ],
   "source": [
    "attended = int(input(\"enter classes attended: \"))\n",
    "total = int(input(\"enter total classes: \"))"
   ]
  },
  {
   "cell_type": "code",
   "execution_count": 8,
   "id": "ec748690-060e-4008-9c57-c418dc51c67f",
   "metadata": {},
   "outputs": [
    {
     "name": "stdout",
     "output_type": "stream",
     "text": [
      "DSA - 83.0%\n"
     ]
    }
   ],
   "source": [
    "per = (attended/total)*100\n",
    "print(f'DSA - {per}%')"
   ]
  },
  {
   "cell_type": "code",
   "execution_count": 9,
   "id": "b2ed6549-0feb-4dac-83fe-8ccbd85cad6f",
   "metadata": {},
   "outputs": [
    {
     "name": "stdout",
     "output_type": "stream",
     "text": [
      "Can miss 10 DSA classes\n"
     ]
    }
   ],
   "source": [
    "missed = total - attended\n",
    "can_miss = (attended//3)-missed\n",
    "print(f'Can miss {can_miss} DSA classes')"
   ]
  },
  {
   "cell_type": "code",
   "execution_count": null,
   "id": "5859e1aa-900c-4bf9-875e-6e5b4caac739",
   "metadata": {},
   "outputs": [],
   "source": []
  }
 ],
 "metadata": {
  "kernelspec": {
   "display_name": "Python 3 (ipykernel)",
   "language": "python",
   "name": "python3"
  },
  "language_info": {
   "codemirror_mode": {
    "name": "ipython",
    "version": 3
   },
   "file_extension": ".py",
   "mimetype": "text/x-python",
   "name": "python",
   "nbconvert_exporter": "python",
   "pygments_lexer": "ipython3",
   "version": "3.12.0"
  }
 },
 "nbformat": 4,
 "nbformat_minor": 5
}
