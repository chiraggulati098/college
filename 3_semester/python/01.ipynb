{
 "cells": [
  {
   "cell_type": "code",
   "execution_count": 1,
   "id": "2d7215e9-22a1-47a8-87f1-8644589583bc",
   "metadata": {},
   "outputs": [
    {
     "name": "stdout",
     "output_type": "stream",
     "text": [
      "15\n",
      "15\n"
     ]
    }
   ],
   "source": [
    "a = 5\n",
    "b = 10\n",
    "\n",
    "print(5+10)\n",
    "print(a+b)"
   ]
  },
  {
   "cell_type": "code",
   "execution_count": 2,
   "id": "c8c66be7-5c3a-4432-9496-d0e2d6169195",
   "metadata": {},
   "outputs": [
    {
     "name": "stdout",
     "output_type": "stream",
     "text": [
      "15.5\n"
     ]
    }
   ],
   "source": [
    "a = 5.5\n",
    "b = 10\n",
    "\n",
    "print(a+b)"
   ]
  },
  {
   "cell_type": "code",
   "execution_count": 4,
   "id": "49b49947-1672-452c-83b1-6bfb01f590bd",
   "metadata": {},
   "outputs": [
    {
     "name": "stdin",
     "output_type": "stream",
     "text": [
      "enter a:  12\n",
      "enter b:  13\n"
     ]
    },
    {
     "name": "stdout",
     "output_type": "stream",
     "text": [
      "\n",
      "sum = 25\n"
     ]
    }
   ],
   "source": [
    "a = int(input('enter a: '))\n",
    "b = int(input('enter b: '))\n",
    "\n",
    "print(f'\\nsum = {a+b}')"
   ]
  },
  {
   "cell_type": "markdown",
   "id": "3084a288-71bd-478d-9b7d-4fcbb9f21c58",
   "metadata": {},
   "source": [
    "## write a program to swap values of 2 variables using 3rd variable and without using 3rd variable"
   ]
  },
  {
   "cell_type": "code",
   "execution_count": 5,
   "id": "9188a6e5-657d-4f4c-a0b3-268970ccec3e",
   "metadata": {},
   "outputs": [
    {
     "name": "stdout",
     "output_type": "stream",
     "text": [
      "a = 20\n",
      "b = 10\n",
      "\n",
      "a = 10\n",
      "b = 20\n"
     ]
    }
   ],
   "source": [
    "a = 20\n",
    "b = 10\n",
    "print(f'a = {a}\\nb = {b}\\n')\n",
    "c = a\n",
    "a = b\n",
    "b = c\n",
    "print(f'a = {a}\\nb = {b}')"
   ]
  },
  {
   "cell_type": "code",
   "execution_count": 15,
   "id": "3b50a225-a59f-409c-8898-9f51e077f393",
   "metadata": {},
   "outputs": [
    {
     "name": "stdout",
     "output_type": "stream",
     "text": [
      "a = 20\n",
      "b = 10\n",
      "\n",
      "a = 10\n",
      "b = 20\n"
     ]
    }
   ],
   "source": [
    "a = 20\n",
    "b = 10\n",
    "print(f'a = {a}\\nb = {b}\\n')\n",
    "a = a+b\n",
    "b = a-b\n",
    "a = a-b\n",
    "print(f'a = {a}\\nb = {b}')"
   ]
  },
  {
   "cell_type": "code",
   "execution_count": 13,
   "id": "1e08f2cb-0ee1-436a-ae4d-7569c7a9e885",
   "metadata": {},
   "outputs": [
    {
     "name": "stdin",
     "output_type": "stream",
     "text": [
      "enter: 123\n"
     ]
    },
    {
     "name": "stdout",
     "output_type": "stream",
     "text": [
      "123\n",
      "<class 'int'>\n"
     ]
    }
   ],
   "source": [
    "x = eval(input('enter:'))\n",
    "print(x)\n",
    "print(type(x))"
   ]
  },
  {
   "cell_type": "code",
   "execution_count": 14,
   "id": "2f15a27c-013e-47e8-921c-3f794025189c",
   "metadata": {},
   "outputs": [
    {
     "name": "stdin",
     "output_type": "stream",
     "text": [
      "enter: 12.3\n"
     ]
    },
    {
     "name": "stdout",
     "output_type": "stream",
     "text": [
      "12.3\n",
      "<class 'float'>\n"
     ]
    }
   ],
   "source": [
    "x = eval(input('enter:'))\n",
    "print(x)\n",
    "print(type(x))"
   ]
  },
  {
   "cell_type": "markdown",
   "id": "9090bb96-c371-40af-9f69-f82b362ebfc2",
   "metadata": {},
   "source": [
    "## Write a program to convert decimal to binary, octa and hexadecimal"
   ]
  },
  {
   "cell_type": "code",
   "execution_count": 19,
   "id": "23e45209-2477-41d7-b312-239c4c9fcd40",
   "metadata": {},
   "outputs": [
    {
     "name": "stdin",
     "output_type": "stream",
     "text": [
      "enter:  23\n"
     ]
    },
    {
     "name": "stdout",
     "output_type": "stream",
     "text": [
      "binary = 0b10111\n",
      "octadecimal = 0o27\n",
      "hexadecimal = 0x17\n"
     ]
    }
   ],
   "source": [
    "a = eval(input('enter: '))\n",
    "print(f'binary = {bin(a)}')\n",
    "print(f'octadecimal = {oct(a)}')\n",
    "print(f'hexadecimal = {hex(a)}')"
   ]
  },
  {
   "cell_type": "markdown",
   "id": "d77e076a-5160-4c10-8a3d-dd18b61c0a67",
   "metadata": {},
   "source": [
    "## WAP to find ASCII value of a given character and get characters from their corressponding ASCII Values"
   ]
  },
  {
   "cell_type": "code",
   "execution_count": 24,
   "id": "cfbbc4a3-b45f-4d28-aa04-2b2ceb9082f7",
   "metadata": {},
   "outputs": [
    {
     "name": "stdin",
     "output_type": "stream",
     "text": [
      "enter char:  4\n"
     ]
    },
    {
     "name": "stdout",
     "output_type": "stream",
     "text": [
      "ASCII = 52\n"
     ]
    }
   ],
   "source": [
    "a = input('enter char: ')\n",
    "print(f'ASCII = {ord(a)}')"
   ]
  },
  {
   "cell_type": "code",
   "execution_count": 29,
   "id": "1bcc7ea7-bb86-4f59-95a1-dfd0161078e8",
   "metadata": {},
   "outputs": [
    {
     "name": "stdin",
     "output_type": "stream",
     "text": [
      "enter ASCII:  52\n"
     ]
    },
    {
     "name": "stdout",
     "output_type": "stream",
     "text": [
      "4\n"
     ]
    }
   ],
   "source": [
    "a = int(input('enter ASCII: '))\n",
    "print(chr(a))"
   ]
  }
 ],
 "metadata": {
  "kernelspec": {
   "display_name": "Python 3 (ipykernel)",
   "language": "python",
   "name": "python3"
  },
  "language_info": {
   "codemirror_mode": {
    "name": "ipython",
    "version": 3
   },
   "file_extension": ".py",
   "mimetype": "text/x-python",
   "name": "python",
   "nbconvert_exporter": "python",
   "pygments_lexer": "ipython3",
   "version": "3.11.4"
  }
 },
 "nbformat": 4,
 "nbformat_minor": 5
}
