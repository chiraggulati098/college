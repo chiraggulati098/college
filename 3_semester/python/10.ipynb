{
 "cells": [
  {
   "cell_type": "code",
   "execution_count": 1,
   "id": "b5443783-1613-4fbe-b517-c1bed8ebb5f0",
   "metadata": {},
   "outputs": [],
   "source": [
    "str = 'Hello Python'"
   ]
  },
  {
   "cell_type": "code",
   "execution_count": 3,
   "id": "c5b37892-ce43-4d71-8187-ab86ee01202a",
   "metadata": {},
   "outputs": [
    {
     "name": "stdout",
     "output_type": "stream",
     "text": [
      "e\n",
      "l\n",
      "l\n",
      " \n",
      "P\n",
      "y\n",
      "t\n",
      "n\n"
     ]
    }
   ],
   "source": [
    "#for loop without range\n",
    "for i in str:\n",
    "    if (i=='o') or (i=='h') or (i=='H'):\n",
    "        continue\n",
    "    print(i)"
   ]
  },
  {
   "cell_type": "code",
   "execution_count": null,
   "id": "765ae638-9347-4211-92a4-d96f0dcab811",
   "metadata": {},
   "outputs": [],
   "source": [
    "#for with range\n",
    "for i in range(len(str)):\n",
    "    if "
   ]
  }
 ],
 "metadata": {
  "kernelspec": {
   "display_name": "Python 3 (ipykernel)",
   "language": "python",
   "name": "python3"
  },
  "language_info": {
   "codemirror_mode": {
    "name": "ipython",
    "version": 3
   },
   "file_extension": ".py",
   "mimetype": "text/x-python",
   "name": "python",
   "nbconvert_exporter": "python",
   "pygments_lexer": "ipython3",
   "version": "3.12.0"
  }
 },
 "nbformat": 4,
 "nbformat_minor": 5
}
