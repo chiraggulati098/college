{
 "cells": [
  {
   "cell_type": "markdown",
   "id": "9a7677b7-05b4-495f-b16b-db134c327109",
   "metadata": {},
   "source": [
    "### WAP to generate passwords taking password length and number of passwords"
   ]
  },
  {
   "cell_type": "code",
   "execution_count": 34,
   "id": "ae3a2abf-0594-45f0-939f-9738b3d4fdbd",
   "metadata": {},
   "outputs": [],
   "source": [
    "import random\n",
    "numeric = '0123456789'\n",
    "lower=\"abcdefghijklmnopqrstuvwxyz\"\n",
    "upper=lower.upper()\n",
    "special=\"!$@#%\""
   ]
  },
  {
   "cell_type": "code",
   "execution_count": 65,
   "id": "3b6e0fba-552f-49fc-a9ba-8c3cd0061511",
   "metadata": {},
   "outputs": [
    {
     "name": "stdin",
     "output_type": "stream",
     "text": [
      "Enter length of password:  10\n",
      "Enter num of passwords:  7\n"
     ]
    }
   ],
   "source": [
    "password_length = int(input('Enter length of password: '))\n",
    "num_of_password = int(input('Enter num of passwords: '))"
   ]
  },
  {
   "cell_type": "code",
   "execution_count": 63,
   "id": "397daca1-cb79-4ab1-ad22-1ea9b5c0aee1",
   "metadata": {},
   "outputs": [],
   "source": [
    "def generate_password(length):\n",
    "    all_characters = lower + upper + numeric + special\n",
    "    password = ''.join(random.choice(all_characters) for _ in range(length))\n",
    "    return password"
   ]
  },
  {
   "cell_type": "code",
   "execution_count": 66,
   "id": "ede1a2af-2d05-490e-8518-50871f8c2a01",
   "metadata": {},
   "outputs": [
    {
     "name": "stdout",
     "output_type": "stream",
     "text": [
      "PFW8%ORhX6\n",
      "F1s8qwRutA\n",
      "gZxa81YX8$\n",
      "tgSZL%cMr7\n",
      "8BbAVCKZ67\n",
      "GHY7lSa5wF\n",
      "w2S%aR0@B4\n"
     ]
    }
   ],
   "source": [
    "for _ in range(num_of_password):\n",
    "    password = generate_password(password_length)\n",
    "    print(password)"
   ]
  },
  {
   "cell_type": "markdown",
   "id": "8c1b42ef-4197-4342-af58-92818499542b",
   "metadata": {},
   "source": [
    "### WAP to count for a particular character in a string using set and user defined functions"
   ]
  },
  {
   "cell_type": "code",
   "execution_count": 67,
   "id": "90282b49-715e-4c43-9c1e-f56509dd04cc",
   "metadata": {},
   "outputs": [],
   "source": [
    "def count_character(input_string, target_char):\n",
    "    char_set = set(input_string)\n",
    "    if target_char not in char_set:\n",
    "        return 0\n",
    "    return input_string.count(target_char)"
   ]
  },
  {
   "cell_type": "code",
   "execution_count": 68,
   "id": "736cda7d-fcbf-4df3-a36f-2eca280f2288",
   "metadata": {},
   "outputs": [
    {
     "name": "stdin",
     "output_type": "stream",
     "text": [
      "Enter a String:  chiraggulati\n",
      "Enter char to count:  g\n"
     ]
    }
   ],
   "source": [
    "input_string = input('Enter a String: ')\n",
    "target = input(\"Enter char to count: \")"
   ]
  },
  {
   "cell_type": "code",
   "execution_count": 69,
   "id": "9c7d0fc3-7149-40a2-8b14-ed4a6c837d35",
   "metadata": {},
   "outputs": [
    {
     "name": "stdout",
     "output_type": "stream",
     "text": [
      "The character 'g' appears 2 times in the given string.\n"
     ]
    }
   ],
   "source": [
    "result = count_character(input_string, target)\n",
    "print(f\"The character '{target}' appears {result} times in the given string.\")"
   ]
  },
  {
   "cell_type": "markdown",
   "id": "875869aa-f7db-48ba-8d09-87945002b201",
   "metadata": {},
   "source": [
    "### WAP to check for first least repeating character in a string Python Programming Students "
   ]
  },
  {
   "cell_type": "code",
   "execution_count": 30,
   "id": "70636ac1-d70f-4325-9aeb-be6dced2daa5",
   "metadata": {},
   "outputs": [],
   "source": [
    "def least_repeating_dict(s):\n",
    "    ch = {}\n",
    "    for i in s:\n",
    "        if i in ch.keys():\n",
    "            ch[i] += 1\n",
    "        else:\n",
    "            ch[i] = 1\n",
    "\n",
    "    least_rep_string = None\n",
    "    least_rep_count = float('inf')\n",
    "\n",
    "    for key,value in ch.items():\n",
    "        if value < least_rep_count:\n",
    "            least_rep_string = key\n",
    "            least_rep_count = value\n",
    "\n",
    "    if least_rep_string == None:\n",
    "        print('String Empty')\n",
    "    else:\n",
    "        print(f'First Least Repeating: {least_rep_string}')"
   ]
  },
  {
   "cell_type": "code",
   "execution_count": 31,
   "id": "749e4749-4370-4b08-9e0b-764d75c27955",
   "metadata": {},
   "outputs": [
    {
     "name": "stdout",
     "output_type": "stream",
     "text": [
      "First Least Repeating: y\n"
     ]
    }
   ],
   "source": [
    "least_repeating_dict('Python Programming Students')"
   ]
  },
  {
   "cell_type": "code",
   "execution_count": null,
   "id": "05c4b052-a73a-4c67-80d6-e3164966d3b6",
   "metadata": {},
   "outputs": [],
   "source": []
  }
 ],
 "metadata": {
  "kernelspec": {
   "display_name": "Python 3 (ipykernel)",
   "language": "python",
   "name": "python3"
  },
  "language_info": {
   "codemirror_mode": {
    "name": "ipython",
    "version": 3
   },
   "file_extension": ".py",
   "mimetype": "text/x-python",
   "name": "python",
   "nbconvert_exporter": "python",
   "pygments_lexer": "ipython3",
   "version": "3.12.0"
  }
 },
 "nbformat": 4,
 "nbformat_minor": 5
}
